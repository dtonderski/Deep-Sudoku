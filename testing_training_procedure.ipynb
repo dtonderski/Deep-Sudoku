{
 "cells": [
  {
   "cell_type": "code",
   "execution_count": 5,
   "outputs": [],
   "source": [
    "import numpy as np\n",
    "from matplotlib import pyplot as plt\n",
    "from deepsudoku.utils import data_utils\n"
   ],
   "metadata": {
    "collapsed": false,
    "pycharm": {
     "name": "#%%\n"
    }
   }
  },
  {
   "cell_type": "code",
   "execution_count": 2,
   "outputs": [],
   "source": [
    "data_utils.split_data()\n",
    "train_sudokus_raw, val_sudokus_raw, _ = data_utils.load_data()\n"
   ],
   "metadata": {
    "collapsed": false,
    "pycharm": {
     "name": "#%%\n"
    }
   }
  },
  {
   "cell_type": "code",
   "execution_count": 3,
   "outputs": [],
   "source": [
    "def natural_distribution():\n",
    "    possible_numbers_of_moves_to_make = list(range(0,64))\n",
    "    with open(\"data/natural_distribution.np\", 'rb') as f:\n",
    "        probabilities = np.load(f)\n",
    "    probabilities = probabilities/sum(probabilities)\n",
    "    return possible_numbers_of_moves_to_make, probabilities\n",
    "\n",
    "train_sudokus = data_utils.make_moves(train_sudokus_raw, n_moves_distribution=natural_distribution, invalid_sudoku_probability = 0.2)\n",
    "val_sudokus = data_utils.make_moves(val_sudokus_raw, n_moves_distribution=natural_distribution, invalid_sudoku_probability = 0.2)"
   ],
   "metadata": {
    "collapsed": false,
    "pycharm": {
     "name": "#%%\n"
    }
   }
  },
  {
   "cell_type": "code",
   "execution_count": 4,
   "outputs": [],
   "source": [
    "dictionary_valid = {}\n",
    "for i, train_sudoku in enumerate(train_sudokus):\n",
    "    if train_sudoku[2]:\n",
    "        current_zeros = len(np.argwhere(train_sudoku[0] == 0))\n",
    "        if current_zeros in dictionary_valid.keys():\n",
    "            dictionary_valid[current_zeros] += 1\n",
    "        else:\n",
    "            dictionary_valid[current_zeros] = 1"
   ],
   "metadata": {
    "collapsed": false,
    "pycharm": {
     "name": "#%%\n"
    }
   }
  },
  {
   "cell_type": "code",
   "execution_count": 5,
   "outputs": [],
   "source": [
    "dictionary_invalid = {}\n",
    "for i, train_sudoku in enumerate(train_sudokus):\n",
    "    if  not train_sudoku[2]:\n",
    "        current_zeros = len(np.argwhere(train_sudoku[0] == 0))\n",
    "        if current_zeros in dictionary_invalid.keys():\n",
    "            dictionary_invalid[current_zeros] += 1\n",
    "        else:\n",
    "            dictionary_invalid[current_zeros] = 1"
   ],
   "metadata": {
    "collapsed": false,
    "pycharm": {
     "name": "#%%\n"
    }
   }
  },
  {
   "cell_type": "code",
   "execution_count": 6,
   "outputs": [
    {
     "data": {
      "text/plain": "<Figure size 432x288 with 1 Axes>",
      "image/png": "[encoded data removed]"
     },
     "metadata": {
      "needs_background": "light"
     },
     "output_type": "display_data"
    }
   ],
   "source": [
    "plt.plot(dictionary_valid.keys(), [x / sum(dictionary_valid.values()) for x in dictionary_valid.values()], '.')\n",
    "plt.plot(dictionary_invalid.keys(), [x / sum(dictionary_invalid.values()) for x in dictionary_invalid.values()], '.')\n",
    "plt.show()"
   ],
   "metadata": {
    "collapsed": false,
    "pycharm": {
     "name": "#%%\n"
    }
   }
  },
  {
   "cell_type": "code",
   "execution_count": 7,
   "outputs": [
    {
     "data": {
      "text/plain": "[<matplotlib.lines.Line2D at 0x1f4d19b2a90>]"
     },
     "execution_count": 7,
     "metadata": {},
     "output_type": "execute_result"
    },
    {
     "data": {
      "text/plain": "<Figure size 432x288 with 1 Axes>",
      "image/png": "[encoded data removed]"
     },
     "metadata": {
      "needs_background": "light"
     },
     "output_type": "display_data"
    }
   ],
   "source": [
    "totals = np.zeros(65)\n",
    "for sudoku in train_sudokus:\n",
    "    totals[len(np.argwhere(sudoku[0]==0))] +=1\n",
    "plt.plot(totals)"
   ],
   "metadata": {
    "collapsed": false,
    "pycharm": {
     "name": "#%%\n"
    }
   }
  },
  {
   "cell_type": "code",
   "execution_count": 6,
   "outputs": [
    {
     "name": "stdout",
     "output_type": "stream",
     "text": [
      "32.6 ms ± 6.28 ms per loop (mean ± std. dev. of 7 runs, 10 loops each)\n"
     ]
    }
   ],
   "source": [
    "%%timeit\n",
    "batch = data_utils.fast_generate_batch(train_sudokus)"
   ],
   "metadata": {
    "collapsed": false,
    "pycharm": {
     "name": "#%%\n"
    }
   }
  },
  {
   "cell_type": "code",
   "execution_count": 7,
   "outputs": [],
   "source": [
    "batch = data_utils.fast_generate_batch(train_sudokus)"
   ],
   "metadata": {
    "collapsed": false,
    "pycharm": {
     "name": "#%%\n"
    }
   }
  },
  {
   "cell_type": "code",
   "execution_count": 9,
   "outputs": [
    {
     "data": {
      "text/plain": "(4062, 9, 9)"
     },
     "execution_count": 9,
     "metadata": {},
     "output_type": "execute_result"
    }
   ],
   "source": [
    "batch[0].shape"
   ],
   "metadata": {
    "collapsed": false,
    "pycharm": {
     "name": "#%%\n"
    }
   }
  },
  {
   "cell_type": "code",
   "execution_count": 12,
   "outputs": [
    {
     "data": {
      "text/plain": "(4062,)"
     },
     "execution_count": 12,
     "metadata": {},
     "output_type": "execute_result"
    }
   ],
   "source": [
    "batch[1][1].shape"
   ],
   "metadata": {
    "collapsed": false,
    "pycharm": {
     "name": "#%%\n"
    }
   }
  },
  {
   "cell_type": "code",
   "execution_count": null,
   "outputs": [],
   "source": [],
   "metadata": {
    "collapsed": false,
    "pycharm": {
     "name": "#%%\n"
    }
   }
  }
 ],
 "metadata": {
  "kernelspec": {
   "display_name": "Python 3",
   "language": "python",
   "name": "python3"
  },
  "language_info": {
   "codemirror_mode": {
    "name": "ipython",
    "version": 2
   },
   "file_extension": ".py",
   "mimetype": "text/x-python",
   "name": "python",
   "nbconvert_exporter": "python",
   "pygments_lexer": "ipython2",
   "version": "2.7.6"
  }
 },
 "nbformat": 4,
 "nbformat_minor": 0
}