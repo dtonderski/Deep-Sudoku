{
 "cells": [
  {
   "cell_type": "code",
   "execution_count": 1,
   "id": "35c3d641-726d-4783-94af-f26f19aabedb",
   "metadata": {},
   "outputs": [
    {
     "name": "stdout",
     "output_type": "stream",
     "text": [
      "\u001b[33mWARNING: Running pip as the 'root' user can result in broken permissions and conflicting behaviour with the system package manager. It is recommended to use a virtual environment instead: https://pip.pypa.io/warnings/venv\u001b[0m\u001b[33m\n",
      "\u001b[0m"
     ]
    }
   ],
   "source": [
    "!pip install --upgrade --quiet git+https://github.com/dtonderski/DeepSudoku"
   ]
  },
  {
   "cell_type": "code",
   "execution_count": 2,
   "id": "e825e520-3d00-4dc1-aaa1-dc2423a17420",
   "metadata": {
    "tags": []
   },
   "outputs": [
    {
     "name": "stdout",
     "output_type": "stream",
     "text": [
      "Name: deepsudoku\n",
      "Version: 0.9.1\n",
      "Summary: Solving Sudokus using a Neural Network assisted Monte-Carlo approach.\n",
      "Home-page: https://github.com/dtonderski/DeepSudoku\n",
      "Author: davton\n",
      "Author-email: dtonderski@gmail.com\n",
      "License: GNU GPLv3\n",
      "Location: /usr/local/lib/python3.9/dist-packages\n",
      "Requires: einops, numpy, py-sudoku, torch\n",
      "Required-by: \n"
     ]
    }
   ],
   "source": [
    "!pip show deepsudoku"
   ]
  },
  {
   "cell_type": "code",
   "execution_count": 3,
   "id": "7f879e31-d306-4bd6-b95b-aad43061a457",
   "metadata": {},
   "outputs": [],
   "source": [
    "from deepsudoku.dsnn import models\n",
    "from deepsudoku.utils import sudoku_utils\n",
    "from deepsudoku.montecarlo import simulation, sudoku_state"
   ]
  },
  {
   "cell_type": "code",
   "execution_count": 65,
   "id": "1861bc01-df34-4fb8-a83a-8c297f151d8d",
   "metadata": {},
   "outputs": [],
   "source": [
    "model = models.load_model(\"ViTTiSudoker\", checkpoint_path = \"models/finetuning/best.pth\")"
   ]
  },
  {
   "cell_type": "code",
   "execution_count": 108,
   "id": "5bd1a28f-172a-41ca-8b4b-dbaa062e7080",
   "metadata": {},
   "outputs": [],
   "source": [
    "sudoku_string = \"600020500000100040000000000700000602500300000000408000043000080010000000000000700\""
   ]
  },
  {
   "cell_type": "code",
   "execution_count": 109,
   "id": "ae477f37-c044-4c69-8374-c464eb59e117",
   "metadata": {},
   "outputs": [],
   "source": [
    "sudoku_board = sudoku_utils.load_string(sudoku_string)"
   ]
  },
  {
   "cell_type": "code",
   "execution_count": 136,
   "id": "16f5dd7a-92b1-41ee-a496-09ef1d9ed7fe",
   "metadata": {},
   "outputs": [],
   "source": [
    "n_simulations_function = simulation.get_n_simulations_function(1, 1)\n"
   ]
  },
  {
   "cell_type": "code",
   "execution_count": 137,
   "id": "ffc974b3-e969-435d-9eb3-e51734dd2782",
   "metadata": {},
   "outputs": [],
   "source": [
    "root = sudoku_state.SudokuState(sudoku_board, model,\n",
    "                   simulations_function=n_simulations_function)\n"
   ]
  },
  {
   "cell_type": "code",
   "execution_count": 138,
   "id": "c92637aa-12b5-4727-8045-fce025b378e7",
   "metadata": {},
   "outputs": [],
   "source": [
    "solved = simulation.play_sudoku(root, n_simulations_function)"
   ]
  },
  {
   "cell_type": "code",
   "execution_count": 139,
   "id": "cb0a6f4e-025c-4d94-8594-2b56ba78dc61",
   "metadata": {},
   "outputs": [
    {
     "data": {
      "text/plain": [
       "True"
      ]
     },
     "execution_count": 139,
     "metadata": {},
     "output_type": "execute_result"
    }
   ],
   "source": [
    "sudoku_utils.validate_sudoku(solved.sudoku_board)"
   ]
  },
  {
   "cell_type": "code",
   "execution_count": null,
   "id": "56fc5a0c-879e-4e71-949b-23dc51f309f1",
   "metadata": {},
   "outputs": [],
   "source": []
  }
 ],
 "metadata": {
  "kernelspec": {
   "display_name": "Python 3 (ipykernel)",
   "language": "python",
   "name": "python3"
  },
  "language_info": {
   "codemirror_mode": {
    "name": "ipython",
    "version": 3
   },
   "file_extension": ".py",
   "mimetype": "text/x-python",
   "name": "python",
   "nbconvert_exporter": "python",
   "pygments_lexer": "ipython3",
   "version": "3.9.13"
  }
 },
 "nbformat": 4,
 "nbformat_minor": 5
}
