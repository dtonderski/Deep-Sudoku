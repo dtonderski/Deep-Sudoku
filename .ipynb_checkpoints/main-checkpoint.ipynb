{
 "cells": [
  {
   "cell_type": "code",
   "execution_count": 1,
   "metadata": {},
   "outputs": [],
   "source": [
    "from sudoku import Sudoku\n",
    "import numpy as np"
   ]
  },
  {
   "cell_type": "code",
   "execution_count": 2,
   "metadata": {},
   "outputs": [],
   "source": [
    "from deep_sudoku.utils import sudoku_utils"
   ]
  },
  {
   "cell_type": "code",
   "execution_count": 234,
   "metadata": {},
   "outputs": [],
   "source": [
    "string = \"000000010400000000020000000000050407008000300001090000300400200050100000000806000\"\n",
    "board = sudoku_utils.load_string(string)\n",
    "solved = sudoku_utils.solve_sudoku(board)"
   ]
  },
  {
   "cell_type": "code",
   "execution_count": 271,
   "metadata": {},
   "outputs": [
    {
     "name": "stdout",
     "output_type": "stream",
     "text": [
      "137 µs ± 8.8 µs per loop (mean ± std. dev. of 7 runs, 10000 loops each)\n"
     ]
    }
   ],
   "source": [
    "%%timeit\n",
    "new_board = board.copy()\n",
    "new_board = make_random_moves(board, solved, 1, 0)"
   ]
  },
  {
   "cell_type": "code",
   "execution_count": 270,
   "metadata": {},
   "outputs": [],
   "source": [
    "def make_random_moves(board: np.ndarray, solved: np.ndarray, n_valid_moves: int, n_invalid_moves:int) -> np.ndarray:\n",
    "    temp_board = board.copy()\n",
    "    \n",
    "    if n_valid_moves > 0:\n",
    "    possible_moves = np.argwhere(temp_board == 0)\n",
    "    valid_move_indices = np.random.choice(range(len(possible_moves)), n_valid_moves, replace = False)\n",
    "    valid_moves = possible_moves[valid_move_indmzzices]\n",
    "        zzcorrect_values = solved[valid_moves[:, 0], valid_moves[:,1]]\n",
    "        temp_board[valid_moves[:, 0], valid_moves[:,1]] = solved[valid_moves[:, 0], valid_moves[:,1]]\n",
    "\n",
    "    if n_invalid_moves > 0:\n",
    "        possible_moves = np.argwhere(temp_board == 0)\n",
    "        invalid_move_indices = np.random.choice(range(len(possible_moves)), n_invalid_moves, replace = False)\n",
    "        invalid_moves = possible_moves[invalid_move_indices]\n",
    "        correct_values = solved[invalid_moves[:, 0], invalid_moves[:,1]]\n",
    "\n",
    "        shifting = np.array(random.sample(range(1, 9), len(correct_values))) \n",
    "        incorrect_values = np.mod(correct_values + shifting, 9)\n",
    "        incorrect_values[incorrect_values == 0] = 9\n",
    "        temp_board[invalid_moves[:, 0], invalid_moves[:,1]] = incorrect_values\n",
    "    \n",
    "    return temp_board\n",
    "\n",
    "new_board = make_random_moves(board, solved, 55, 8)"
   ]
  },
  {
   "cell_type": "code",
   "execution_count": null,
   "metadata": {},
   "outputs": [],
   "source": []
  },
  {
   "cell_type": "code",
   "execution_count": 262,
   "metadata": {},
   "outputs": [
    {
     "data": {
      "text/plain": [
       "8"
      ]
     },
     "execution_count": 262,
     "metadata": {},
     "output_type": "execute_result"
    }
   ],
   "source": [
    "81 - np.sum(np.logical_or(np.equal(new_board, board), np.equal(new_board, solved)))"
   ]
  },
  {
   "cell_type": "code",
   "execution_count": 71,
   "metadata": {},
   "outputs": [
    {
     "ename": "AttributeError",
     "evalue": "module 'numpy.random' has no attribute 'permutate'",
     "output_type": "error",
     "traceback": [
      "\u001b[1;31m---------------------------------------------------------------------------\u001b[0m",
      "\u001b[1;31mAttributeError\u001b[0m                            Traceback (most recent call last)",
      "\u001b[1;32m<ipython-input-71-98b8342f8e7b>\u001b[0m in \u001b[0;36m<module>\u001b[1;34m\u001b[0m\n\u001b[0;32m      1\u001b[0m \u001b[0ma\u001b[0m \u001b[1;33m=\u001b[0m \u001b[1;33m[\u001b[0m\u001b[1;36m1\u001b[0m\u001b[1;33m,\u001b[0m\u001b[1;36m2\u001b[0m\u001b[1;33m,\u001b[0m\u001b[1;36m3\u001b[0m\u001b[1;33m]\u001b[0m\u001b[1;33m\u001b[0m\u001b[1;33m\u001b[0m\u001b[0m\n\u001b[1;32m----> 2\u001b[1;33m \u001b[0mnp\u001b[0m\u001b[1;33m.\u001b[0m\u001b[0mrandom\u001b[0m\u001b[1;33m.\u001b[0m\u001b[0mpermutate\u001b[0m\u001b[1;33m(\u001b[0m\u001b[0ma\u001b[0m\u001b[1;33m)\u001b[0m\u001b[1;33m\u001b[0m\u001b[1;33m\u001b[0m\u001b[0m\n\u001b[0m\u001b[0;32m      3\u001b[0m \u001b[0ma\u001b[0m\u001b[1;33m\u001b[0m\u001b[1;33m\u001b[0m\u001b[0m\n",
      "\u001b[1;31mAttributeError\u001b[0m: module 'numpy.random' has no attribute 'permutate'"
     ]
    }
   ],
   "source": [
    "a = [1,2,3]\n",
    "np.random.permutate(a)\n",
    "a"
   ]
  },
  {
   "cell_type": "code",
   "execution_count": 129,
   "metadata": {},
   "outputs": [
    {
     "data": {
      "text/plain": [
       "[3, 1, 2]"
      ]
     },
     "execution_count": 129,
     "metadata": {},
     "output_type": "execute_result"
    }
   ],
   "source": [
    "[3,1,2]"
   ]
  },
  {
   "cell_type": "code",
   "execution_count": 214,
   "metadata": {},
   "outputs": [
    {
     "ename": "SyntaxError",
     "evalue": "invalid syntax (<ipython-input-214-9c18344aa195>, line 1)",
     "output_type": "error",
     "traceback": [
      "\u001b[1;36m  File \u001b[1;32m\"<ipython-input-214-9c18344aa195>\"\u001b[1;36m, line \u001b[1;32m1\u001b[0m\n\u001b[1;33m    1 == not True\u001b[0m\n\u001b[1;37m         ^\u001b[0m\n\u001b[1;31mSyntaxError\u001b[0m\u001b[1;31m:\u001b[0m invalid syntax\n"
     ]
    }
   ],
   "source": []
  },
  {
   "cell_type": "code",
   "execution_count": 161,
   "metadata": {},
   "outputs": [
    {
     "name": "stdout",
     "output_type": "stream",
     "text": [
      "[8 1 2]\n"
     ]
    }
   ],
   "source": [
    "import random\n",
    "\n",
    "print(b)"
   ]
  },
  {
   "cell_type": "code",
   "execution_count": 227,
   "metadata": {},
   "outputs": [
    {
     "name": "stdout",
     "output_type": "stream",
     "text": [
      "[3 9 1]\n",
      "[4 6 7]\n",
      "[8 6 8]\n",
      "[5 1 7]\n",
      "[9 2 5]\n",
      "[8 5 7]\n",
      "[5 5 8]\n",
      "[9 5 3]\n",
      "[7 3 3]\n",
      "[2 5 6]\n",
      "[8 2 5]\n",
      "[5 2 8]\n",
      "[4 7 4]\n",
      "[5 9 1]\n",
      "[8 2 6]\n",
      "[7 3 8]\n",
      "[7 2 4]\n",
      "[1 6 5]\n",
      "[2 7 5]\n",
      "[9 6 4]\n",
      "[1 3 8]\n",
      "[5 6 4]\n",
      "[3 2 6]\n",
      "[3 5 2]\n",
      "[2 3 1]\n",
      "[9 9 4]\n",
      "[4 9 2]\n",
      "[8 2 1]\n",
      "[1 7 1]\n",
      "[1 5 4]\n"
     ]
    }
   ],
   "source": [
    "a = np.array([6, 8, 9])\n",
    "for i in range(30):\n",
    "    b = np.random.choice(range(1, 9), 3)\n",
    "    c = np.mod((a+b), 9)\n",
    "    c[c==0] = 9\n",
    "    print(c)"
   ]
  },
  {
   "cell_type": "code",
   "execution_count": null,
   "metadata": {},
   "outputs": [],
   "source": []
  }
 ],
 "metadata": {
  "kernelspec": {
   "display_name": "Python 3",
   "language": "python",
   "name": "python3"
  },
  "language_info": {
   "codemirror_mode": {
    "name": "ipython",
    "version": 3
   },
   "file_extension": ".py",
   "mimetype": "text/x-python",
   "name": "python",
   "nbconvert_exporter": "python",
   "pygments_lexer": "ipython3",
   "version": "3.8.7"
  }
 },
 "nbformat": 4,
 "nbformat_minor": 4
}
