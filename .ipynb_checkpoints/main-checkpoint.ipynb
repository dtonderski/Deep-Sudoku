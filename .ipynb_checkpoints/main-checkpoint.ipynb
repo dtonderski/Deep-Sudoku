{
 "cells": [
  {
   "cell_type": "code",
   "execution_count": 1,
   "metadata": {},
   "outputs": [
    {
     "name": "stdout",
     "output_type": "stream",
     "text": [
      "+-------+-------+-------+\n",
      "| 6   9 |   3 1 |     5 |\n",
      "| 4     |   5 7 |       |\n",
      "| 2 1 5 | 4     | 3     |\n",
      "+-------+-------+-------+\n",
      "|     1 | 7 8   | 6 3   |\n",
      "| 8     |     9 |     4 |\n",
      "| 7 9 3 | 5   4 |       |\n",
      "+-------+-------+-------+\n",
      "|     6 |   4   | 8 7 3 |\n",
      "| 1 5   |       | 9 4   |\n",
      "| 3 8 4 |     6 | 5   2 |\n",
      "+-------+-------+-------+\n",
      "\n",
      "+-------+-------+-------+\n",
      "| 6 7 9 | 2 3 1 | 4 8 5 |\n",
      "| 4 3 8 | 6 5 7 | 2 9 1 |\n",
      "| 2 1 5 | 4 9 8 | 3 6 7 |\n",
      "+-------+-------+-------+\n",
      "| 5 4 1 | 7 8 2 | 6 3 9 |\n",
      "| 8 6 2 | 3 1 9 | 7 5 4 |\n",
      "| 7 9 3 | 5 6 4 | 1 2 8 |\n",
      "+-------+-------+-------+\n",
      "| 9 2 6 | 1 4 5 | 8 7 3 |\n",
      "| 1 5 7 | 8 2 3 | 9 4 6 |\n",
      "| 3 8 4 | 9 7 6 | 5 1 2 |\n",
      "+-------+-------+-------+\n",
      "\n"
     ]
    }
   ],
   "source": [
    "from sudoku import Sudoku\n",
    "import numpy as np\n",
    "puzzle = Sudoku(3).difficulty(0.5)\n",
    "puzzle.show()\n",
    "solved = puzzle.solve().board\n",
    "solved.show()\n"
   ]
  },
  {
   "cell_type": "code",
   "execution_count": 2,
   "metadata": {},
   "outputs": [],
   "source": [
    "def solve_sudoku(board):\n",
    "    board_none = board.copy()\n",
    "    board_none[board_none == 0] = None\n",
    "    puzzle = Sudoku(3)\n",
    "    puzzle.board = board_none\n",
    "    return np.array(puzzle.solve().board)\n",
    "\n",
    "def load_string(string):\n",
    "    board = list(map(int, list(string)))\n",
    "    return np.reshape(board, (9,9)).astype('O')"
   ]
  },
  {
   "cell_type": "code",
   "execution_count": 5,
   "metadata": {},
   "outputs": [],
   "source": [
    "string = \"000000010400000000020000000000050407008000300001090000300400200050100000000806000\"\n",
    "board = load_string(string)\n",
    "solved = solve_sudoku(board)"
   ]
  },
  {
   "cell_type": "code",
   "execution_count": 7,
   "metadata": {},
   "outputs": [],
   "source": [
    "def make_random_move(board, solved, correct = True):\n",
    "    temp_board = board.copy()\n",
    "    possible_moves = np.argwhere(temp_board == 0)\n",
    "    move_index = np.random.choice(range(len(possible_moves)))\n",
    "    pos_to_play = possible_moves[move_index]\n",
    "\n",
    "    correct_number = int(solved[pos_to_play[0], pos_to_play[1]])\n",
    "    \n",
    "    if correct:\n",
    "        new_number = correct_number\n",
    "    else:\n",
    "        new_number = np.random.choice([x for x in range(1,9) if x!= correct_number])\n",
    "        \n",
    "    temp_board[pos_to_play[0], pos_to_play[1]] = new_number\n",
    "    \n",
    "    return temp_board\n",
    "\n",
    "checking = False\n",
    "\n",
    "\n",
    "for i in range(1000):\n",
    "    new_board = board.copy()\n",
    "    \n",
    "    for j in range(20):\n",
    "        new_board = make_random_move(new_board, solved, checking)\n",
    "        assert(np.all(np.logical_or(np.equal(new_board,board), np.equal(new_board, solved))) == checking)"
   ]
  },
  {
   "cell_type": "code",
   "execution_count": 201,
   "metadata": {},
   "outputs": [
    {
     "name": "stdout",
     "output_type": "stream",
     "text": [
      "64\n"
     ]
    },
    {
     "ename": "NameError",
     "evalue": "name 'boards' is not defined",
     "output_type": "error",
     "traceback": [
      "\u001b[1;31m---------------------------------------------------------------------------\u001b[0m",
      "\u001b[1;31mNameError\u001b[0m                                 Traceback (most recent call last)",
      "\u001b[1;32m<ipython-input-201-20faf25c0c56>\u001b[0m in \u001b[0;36m<module>\u001b[1;34m\u001b[0m\n\u001b[1;32m----> 1\u001b[1;33m \u001b[0mgenerate_sudokus\u001b[0m\u001b[1;33m(\u001b[0m\u001b[0mboard\u001b[0m\u001b[1;33m,\u001b[0m \u001b[1;36m1\u001b[0m\u001b[1;33m,\u001b[0m \u001b[1;36m1\u001b[0m\u001b[1;33m)\u001b[0m\u001b[1;33m\u001b[0m\u001b[1;33m\u001b[0m\u001b[0m\n\u001b[0m",
      "\u001b[1;32m<ipython-input-200-84e437b9375e>\u001b[0m in \u001b[0;36mgenerate_sudokus\u001b[1;34m(board, moves_per_board, correct_moves_per_board)\u001b[0m\n\u001b[0;32m      3\u001b[0m     \u001b[0mprint\u001b[0m\u001b[1;33m(\u001b[0m\u001b[0mn_moves\u001b[0m\u001b[1;33m)\u001b[0m\u001b[1;33m\u001b[0m\u001b[1;33m\u001b[0m\u001b[0m\n\u001b[0;32m      4\u001b[0m \u001b[1;33m\u001b[0m\u001b[0m\n\u001b[1;32m----> 5\u001b[1;33m     \u001b[1;32mreturn\u001b[0m \u001b[0mboards\u001b[0m\u001b[1;33m,\u001b[0m\u001b[0mlabels\u001b[0m\u001b[1;33m\u001b[0m\u001b[1;33m\u001b[0m\u001b[0m\n\u001b[0m\u001b[0;32m      6\u001b[0m \u001b[1;33m\u001b[0m\u001b[0m\n",
      "\u001b[1;31mNameError\u001b[0m: name 'boards' is not defined"
     ]
    }
   ],
   "source": [
    "def generate_sudokus(board, solved, moves_per_board, correct_moves_per_board):\n",
    "    boards = []\n",
    "    labels = []\n",
    "    \n",
    "    n_moves = len(np.argwhere(board == 0))\n",
    "    for move in n_moves:\n",
    "        \n",
    "        \n",
    "        \n",
    "    return boards,labels\n",
    "\n",
    "generate_sudokus(board, solved, 1, 1)"
   ]
  },
  {
   "cell_type": "code",
   "execution_count": null,
   "metadata": {},
   "outputs": [],
   "source": []
  },
  {
   "cell_type": "code",
   "execution_count": 196,
   "metadata": {},
   "outputs": [
    {
     "ename": "TypeError",
     "evalue": "'int' object is not iterable",
     "output_type": "error",
     "traceback": [
      "\u001b[1;31m---------------------------------------------------------------------------\u001b[0m",
      "\u001b[1;31mTypeError\u001b[0m                                 Traceback (most recent call last)",
      "\u001b[1;32m<ipython-input-196-69b6b14cc30a>\u001b[0m in \u001b[0;36m<module>\u001b[1;34m\u001b[0m\n\u001b[1;32m----> 1\u001b[1;33m \u001b[0mtuple\u001b[0m\u001b[1;33m(\u001b[0m\u001b[1;36m1\u001b[0m\u001b[1;33m)\u001b[0m\u001b[1;33m\u001b[0m\u001b[1;33m\u001b[0m\u001b[0m\n\u001b[0m",
      "\u001b[1;31mTypeError\u001b[0m: 'int' object is not iterable"
     ]
    }
   ],
   "source": []
  },
  {
   "cell_type": "code",
   "execution_count": null,
   "metadata": {},
   "outputs": [],
   "source": []
  }
 ],
 "metadata": {
  "kernelspec": {
   "display_name": "Python 3",
   "language": "python",
   "name": "python3"
  },
  "language_info": {
   "codemirror_mode": {
    "name": "ipython",
    "version": 3
   },
   "file_extension": ".py",
   "mimetype": "text/x-python",
   "name": "python",
   "nbconvert_exporter": "python",
   "pygments_lexer": "ipython3",
   "version": "3.8.7"
  }
 },
 "nbformat": 4,
 "nbformat_minor": 1
}
