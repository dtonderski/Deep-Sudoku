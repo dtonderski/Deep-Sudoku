{
 "cells": [
  {
   "cell_type": "code",
   "execution_count": 2,
   "metadata": {
    "tags": [],
    "pycharm": {
     "name": "#%%\n"
    }
   },
   "outputs": [],
   "source": [
    "import numpy as np\n",
    "import torch\n",
    "from sudoku import Sudoku\n",
    "from matplotlib import pyplot as plt\n",
    "import deepsudoku as ds\n",
    "from deepsudoku.utils import data_utils, sudoku_utils"
   ]
  },
  {
   "cell_type": "code",
   "execution_count": 3,
   "metadata": {
    "collapsed": false,
    "jupyter": {
     "outputs_hidden": false
    },
    "pycharm": {
     "name": "#%%\n"
    }
   },
   "outputs": [],
   "source": [
    "model = ds.model.SimpleNet()"
   ]
  },
  {
   "cell_type": "code",
   "execution_count": 4,
   "metadata": {
    "collapsed": false,
    "jupyter": {
     "outputs_hidden": false
    },
    "pycharm": {
     "name": "#%%\n"
    }
   },
   "outputs": [
    {
     "data": {
      "text/plain": "<All keys matched successfully>"
     },
     "execution_count": 4,
     "metadata": {},
     "output_type": "execute_result"
    }
   ],
   "source": [
    "model.load_state_dict(torch.load(\"documentation/2.pth\", map_location=torch.device('cpu'))[\"model_state_dict\"])"
   ]
  },
  {
   "cell_type": "code",
   "execution_count": 5,
   "metadata": {
    "collapsed": false,
    "jupyter": {
     "outputs_hidden": false
    },
    "pycharm": {
     "name": "#%%\n"
    }
   },
   "outputs": [],
   "source": [
    "train_sudokus, val_sudokus, test_sudokus = data_utils.load_data()"
   ]
  },
  {
   "cell_type": "code",
   "execution_count": 6,
   "metadata": {
    "collapsed": false,
    "jupyter": {
     "outputs_hidden": false
    },
    "pycharm": {
     "name": "#%%\n"
    }
   },
   "outputs": [],
   "source": [
    "loss_fn = torch.nn.CrossEntropyLoss()\n"
   ]
  },
  {
   "cell_type": "code",
   "execution_count": 14,
   "metadata": {
    "collapsed": false,
    "jupyter": {
     "outputs_hidden": false
    },
    "pycharm": {
     "name": "#%%\n"
    }
   },
   "outputs": [],
   "source": [
    "def natural_distribution():\n",
    "    possible_numbers_of_moves_to_make = list(range(0,64))\n",
    "    with open(\"data/natural_distribution.np\", 'rb') as f:\n",
    "        probabilities = np.load(f)\n",
    "    probabilities = probabilities/sum(probabilities)\n",
    "    return possible_numbers_of_moves_to_make, probabilities\n",
    "\n",
    "train_sudokus = data_utils.make_moves(train_sudokus, natural_distribution)\n",
    "val_sudokus = data_utils.make_moves(val_sudokus, natural_distribution)\n",
    "test_sudokus = data_utils.make_moves(test_sudokus, natural_distribution)\n"
   ]
  },
  {
   "cell_type": "code",
   "execution_count": 15,
   "metadata": {
    "collapsed": false,
    "jupyter": {
     "outputs_hidden": false
    },
    "pycharm": {
     "name": "#%%\n"
    }
   },
   "outputs": [],
   "source": [
    "x_test, y_test = data_utils.generate_batch(test_sudokus, augment = False)\n",
    "x_test = torch.tensor(x_test.reshape(-1,1,9,9).astype('float32'))\n",
    "y_test = torch.tensor(y_test - 1).type(torch.LongTensor)"
   ]
  },
  {
   "cell_type": "code",
   "execution_count": 16,
   "metadata": {
    "collapsed": false,
    "jupyter": {
     "outputs_hidden": false
    },
    "pycharm": {
     "name": "#%%\n"
    }
   },
   "outputs": [],
   "source": [
    "dictionary = {}\n",
    "for i, test_sudoku in enumerate(test_sudokus):\n",
    "    current_zeros = len(np.argwhere(test_sudoku[0] == 0))\n",
    "    if current_zeros in dictionary.keys():\n",
    "        dictionary[current_zeros] += [i]\n",
    "    else:\n",
    "        dictionary[current_zeros] = [i]"
   ]
  },
  {
   "cell_type": "code",
   "execution_count": 17,
   "metadata": {
    "collapsed": false,
    "jupyter": {
     "outputs_hidden": false
    },
    "pycharm": {
     "name": "#%%\n"
    }
   },
   "outputs": [
    {
     "data": {
      "text/plain": "SimpleNet(\n  (conv0): Conv2d(1, 64, kernel_size=(3, 3), stride=(1, 1), padding=(1, 1))\n  (convs): ModuleList(\n    (0): Conv2d(64, 64, kernel_size=(3, 3), stride=(1, 1), padding=(1, 1))\n    (1): Conv2d(64, 64, kernel_size=(3, 3), stride=(1, 1), padding=(1, 1))\n    (2): Conv2d(64, 64, kernel_size=(3, 3), stride=(1, 1), padding=(1, 1))\n    (3): Conv2d(64, 64, kernel_size=(3, 3), stride=(1, 1), padding=(1, 1))\n    (4): Conv2d(64, 64, kernel_size=(3, 3), stride=(1, 1), padding=(1, 1))\n    (5): Conv2d(64, 64, kernel_size=(3, 3), stride=(1, 1), padding=(1, 1))\n    (6): Conv2d(64, 64, kernel_size=(3, 3), stride=(1, 1), padding=(1, 1))\n    (7): Conv2d(64, 64, kernel_size=(3, 3), stride=(1, 1), padding=(1, 1))\n  )\n  (convlast): Conv2d(64, 9, kernel_size=(3, 3), stride=(1, 1), padding=(1, 1))\n)"
     },
     "execution_count": 17,
     "metadata": {},
     "output_type": "execute_result"
    }
   ],
   "source": [
    "model.eval()"
   ]
  },
  {
   "cell_type": "code",
   "execution_count": 18,
   "metadata": {
    "pycharm": {
     "name": "#%%\n"
    }
   },
   "outputs": [],
   "source": [
    "test_losses_i = []\n",
    "test_accs_i = []\n",
    "\n",
    "for i in set(dictionary.keys()):\n",
    "\n",
    "    x_test_i = x_test[dictionary[i]]\n",
    "    y_test_i = y_test[dictionary[i]]\n",
    "\n",
    "    with torch.no_grad():\n",
    "        y_pred_test_i = model(x_test_i)\n",
    "        test_loss_i = loss_fn(y_pred_test_i, y_test_i)\n",
    "        indices = torch.max(y_pred_test_i, 1)[1]\n",
    "        correct = torch.eq(indices, y_test_i).view(-1)\n",
    "        test_acc_i = torch.sum(correct)/correct.shape[0]\n",
    "\n",
    "    test_losses_i.append(test_loss_i.item())\n",
    "    test_accs_i.append(test_acc_i.cpu())"
   ]
  },
  {
   "cell_type": "code",
   "execution_count": 19,
   "metadata": {
    "collapsed": false,
    "jupyter": {
     "outputs_hidden": false
    },
    "pycharm": {
     "name": "#%%\n"
    }
   },
   "outputs": [],
   "source": [
    "test_accs_i_1 = test_accs_i"
   ]
  },
  {
   "cell_type": "code",
   "execution_count": 20,
   "metadata": {
    "collapsed": false,
    "jupyter": {
     "outputs_hidden": false
    },
    "pycharm": {
     "name": "#%%\n"
    }
   },
   "outputs": [
    {
     "data": {
      "text/plain": "[<matplotlib.lines.Line2D at 0x27911d8b460>]"
     },
     "execution_count": 20,
     "metadata": {},
     "output_type": "execute_result"
    },
    {
     "data": {
      "text/plain": "<Figure size 432x288 with 1 Axes>",
      "image/png": "[encoded data removed]"
     },
     "metadata": {
      "needs_background": "light"
     },
     "output_type": "display_data"
    }
   ],
   "source": [
    "plt.plot(test_accs_i)\n",
    "plt.plot(test_accs_i_1)"
   ]
  },
  {
   "cell_type": "code",
   "execution_count": 21,
   "metadata": {
    "pycharm": {
     "name": "#%%\n"
    }
   },
   "outputs": [],
   "source": [
    "with open(\"data/natural_distribution.np\", 'wb') as f:\n",
    "    np.save(f, test_losses_i[::-1])"
   ]
  },
  {
   "cell_type": "code",
   "execution_count": 22,
   "metadata": {
    "pycharm": {
     "name": "#%%\n"
    }
   },
   "outputs": [],
   "source": [
    "with open(\"data/natural_distribution.np\", 'rb') as f:\n",
    "    test = np.load(f)"
   ]
  },
  {
   "cell_type": "code",
   "execution_count": 23,
   "metadata": {
    "pycharm": {
     "name": "#%%\n"
    }
   },
   "outputs": [
    {
     "data": {
      "text/plain": "[<matplotlib.lines.Line2D at 0x27916da0e80>]"
     },
     "execution_count": 23,
     "metadata": {},
     "output_type": "execute_result"
    },
    {
     "data": {
      "text/plain": "<Figure size 432x288 with 1 Axes>",
      "image/png": "[encoded data removed]"
     },
     "metadata": {
      "needs_background": "light"
     },
     "output_type": "display_data"
    }
   ],
   "source": [
    "plt.plot(test)"
   ]
  },
  {
   "cell_type": "code",
   "execution_count": 24,
   "metadata": {
    "collapsed": false,
    "jupyter": {
     "outputs_hidden": false
    },
    "pycharm": {
     "name": "#%%\n"
    }
   },
   "outputs": [],
   "source": [
    "test_losses_i = []\n",
    "test_accs_i = []\n",
    "\n",
    "for i in set(dictionary.keys()):\n",
    "\n",
    "    x_test_i = x_test[dictionary[i]]\n",
    "    y_test_i = y_test[dictionary[i]]\n",
    "\n",
    "    with torch.no_grad():\n",
    "        y_pred_test_i = model(x_test_i)\n",
    "        test_loss_i = loss_fn(y_pred_test_i, y_test_i)\n",
    "        indices = torch.max(y_pred_test_i, 1)[1]\n",
    "        correct = torch.eq(indices, y_test_i).view(-1)\n",
    "        test_acc_i = torch.sum(correct)/correct.shape[0]\n",
    "\n",
    "    test_losses_i.append(test_loss_i.item())\n",
    "    test_accs_i.append(test_acc_i.cpu())"
   ]
  },
  {
   "cell_type": "code",
   "execution_count": 32,
   "metadata": {
    "pycharm": {
     "name": "#%%\n"
    }
   },
   "outputs": [],
   "source": [
    "def get_index_of_max_value(sudoku_probabilities):\n",
    "    max_probabilities_cells, cell_values = torch.max(y_pred_test_i, 1)\n",
    "    return max_probabilities_cells, cell_values\n",
    "\n",
    "def get_position_of_max_value(sudoku_probabilities):\n",
    "    return np.unravel_index(np.argmax(sudoku_probabilities.cpu()), (9,9))\n"
   ]
  },
  {
   "cell_type": "code",
   "execution_count": 33,
   "metadata": {
    "pycharm": {
     "name": "#%%\n"
    }
   },
   "outputs": [
    {
     "data": {
      "text/plain": "torch.Size([35, 9, 9, 9])"
     },
     "execution_count": 33,
     "metadata": {},
     "output_type": "execute_result"
    }
   ],
   "source": [
    "y_pred_test_i.shape"
   ]
  },
  {
   "cell_type": "code",
   "execution_count": 34,
   "metadata": {
    "pycharm": {
     "name": "#%%\n"
    }
   },
   "outputs": [
    {
     "name": "stdout",
     "output_type": "stream",
     "text": [
      "torch.Size([9, 9, 9])\n",
      "torch.Size([9, 9])\n",
      "tensor([[ 0.6492,  1.6857,  1.2658,  2.3528, 10.2499,  0.6465, 10.8577,  2.3627,\n",
      "          2.4858],\n",
      "        [ 0.9733,  2.2803,  0.7962,  2.7666,  1.7266,  1.4560, 14.0651,  2.2525,\n",
      "          9.8730],\n",
      "        [ 2.3630, 22.9606,  1.6143, 18.5439,  3.0516,  1.5712,  3.6382,  1.7127,\n",
      "          1.2961],\n",
      "        [ 1.3761, 16.3572,  2.6854,  1.4508,  0.3311,  2.1223,  2.1401, 17.1592,\n",
      "          2.6619],\n",
      "        [ 2.6908,  2.2098,  1.5923,  2.0984, 16.9115,  1.4662,  3.9417, 13.6680,\n",
      "          2.6597],\n",
      "        [ 8.7926,  2.4365,  0.4593,  2.1035,  0.7687,  1.3345,  2.4000,  2.2851,\n",
      "          1.7128],\n",
      "        [ 2.7287,  3.8077, 16.8425, 16.1990,  2.9138, 24.2229,  2.1717,  2.7260,\n",
      "          1.8754],\n",
      "        [ 7.5323,  0.8036,  3.4665,  3.2923,  1.8411,  3.1032,  9.5369,  1.7830,\n",
      "          3.2679],\n",
      "        [ 2.9179,  2.3873,  3.0158, 11.0542,  2.7179,  4.2598,  2.2470,  2.3047,\n",
      "          1.4756]])\n",
      "(6, 5)\n",
      "tensor(3)\n"
     ]
    }
   ],
   "source": [
    "a = y_pred_test_i[0]\n",
    "print(a.shape)\n",
    "max_probabilities_cells, cell_values = torch.max(a, 0)\n",
    "print(max_probabilities_cells.shape)\n",
    "pos = np.unravel_index(np.argmax(max_probabilities_cells.cpu()), (9,9))\n",
    "print(max_probabilities_cells)\n",
    "print(pos)\n",
    "print(cell_values[pos[0], pos[1]])"
   ]
  },
  {
   "cell_type": "code",
   "execution_count": 35,
   "metadata": {
    "pycharm": {
     "name": "#%%\n"
    }
   },
   "outputs": [],
   "source": [
    "most_confident_correct_ratio_i = []\n",
    "\n",
    "for i in set(dictionary.keys()):\n",
    "\n",
    "    x_test_i = x_test[dictionary[i]]\n",
    "    y_test_i = y_test[dictionary[i]]\n",
    "    \n",
    "    with torch.no_grad():\n",
    "        y_pred_test_i = model(x_test_i)\n",
    "        values, indices = torch.max(y_pred_test_i, 1)\n",
    "\n",
    "        correct = 0\n",
    "\n",
    "        for i, (value, index) in enumerate(zip(values,indices)):\n",
    "            pos = get_position_of_max_value(value)\n",
    "            correct += index[pos[0], pos[1]] == y_test_i[i, pos[0], pos[1]]\n",
    "\n",
    "    most_confident_correct_ratio_i.append((correct/len(values)).cpu())"
   ]
  },
  {
   "cell_type": "code",
   "execution_count": 36,
   "metadata": {
    "pycharm": {
     "name": "#%%\n"
    }
   },
   "outputs": [
    {
     "data": {
      "text/plain": "[<matplotlib.lines.Line2D at 0x279172a8520>]"
     },
     "execution_count": 36,
     "metadata": {},
     "output_type": "execute_result"
    },
    {
     "data": {
      "text/plain": "<Figure size 432x288 with 1 Axes>",
      "image/png": "[encoded data removed]"
     },
     "metadata": {
      "needs_background": "light"
     },
     "output_type": "display_data"
    }
   ],
   "source": [
    "plt.plot(most_confident_correct_ratio_i)"
   ]
  },
  {
   "cell_type": "code",
   "execution_count": 38,
   "metadata": {
    "pycharm": {
     "name": "#%%\n"
    }
   },
   "outputs": [
    {
     "data": {
      "text/plain": "torch.Size([35, 1, 9, 9])"
     },
     "execution_count": 38,
     "metadata": {},
     "output_type": "execute_result"
    }
   ],
   "source": [
    "x_test_i.shape"
   ]
  },
  {
   "cell_type": "code",
   "execution_count": 40,
   "metadata": {
    "pycharm": {
     "name": "#%%\n"
    }
   },
   "outputs": [
    {
     "data": {
      "text/plain": [
       "torch.Size([11, 9, 9])"
      ]
     },
     "execution_count": 40,
     "metadata": {},
     "output_type": "execute_result"
    }
   ],
   "source": [
    "values.shape"
   ]
  },
  {
   "cell_type": "code",
   "execution_count": null,
   "metadata": {
    "pycharm": {
     "name": "#%%\n"
    }
   },
   "outputs": [],
   "source": []
  }
 ],
 "metadata": {
  "kernelspec": {
   "display_name": "Python 3 (ipykernel)",
   "language": "python",
   "name": "python3"
  },
  "language_info": {
   "codemirror_mode": {
    "name": "ipython",
    "version": 3
   },
   "file_extension": ".py",
   "mimetype": "text/x-python",
   "name": "python",
   "nbconvert_exporter": "python",
   "pygments_lexer": "ipython3",
   "version": "3.9.12"
  }
 },
 "nbformat": 4,
 "nbformat_minor": 4
}