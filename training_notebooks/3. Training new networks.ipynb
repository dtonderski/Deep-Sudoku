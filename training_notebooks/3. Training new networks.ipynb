{
 "cells": [
  {
   "cell_type": "code",
   "execution_count": 1,
   "id": "2ac7132f-e2ad-43df-9849-b9141e173720",
   "metadata": {},
   "outputs": [
    {
     "name": "stdout",
     "output_type": "stream",
     "text": [
      "\u001B[33mWARNING: Running pip as the 'root' user can result in broken permissions and conflicting behaviour with the system package manager. It is recommended to use a virtual environment instead: https://pip.pypa.io/warnings/venv\u001B[0m\u001B[33m\n",
      "\u001B[0m"
     ]
    }
   ],
   "source": [
    "!pip install --upgrade --quiet git+https://github.com/dtonderski/DeepSudoku"
   ]
  },
  {
   "cell_type": "code",
   "execution_count": 2,
   "id": "3e4dd188-cf62-4b5a-b91d-19e889f5be3c",
   "metadata": {},
   "outputs": [
    {
     "name": "stdout",
     "output_type": "stream",
     "text": [
      "Name: deepsudoku\n",
      "Version: 0.8.4\n",
      "Summary: Solving Sudokus using a Neural Network assisted Monte-Carlo approach.\n",
      "Home-page: https://github.com/dtonderski/DeepSudoku\n",
      "Author: davton\n",
      "Author-email: dtonderski@gmail.com\n",
      "License: GNU GPLv3\n",
      "Location: /usr/local/lib/python3.9/dist-packages\n",
      "Requires: einops, numpy, py-sudoku, torch\n",
      "Required-by: \n"
     ]
    }
   ],
   "source": [
    "!pip show deepsudoku"
   ]
  },
  {
   "cell_type": "markdown",
   "id": "a851681c-ceaa-4b88-b048-490f6c22beb4",
   "metadata": {
    "tags": []
   },
   "source": [
    "### Data\n",
    "We use the previous_data list from 2. Initial SeResNet training, and split the data into train/val/test"
   ]
  },
  {
   "cell_type": "code",
   "execution_count": 3,
   "id": "7eecc45a-bd18-4a28-8690-7de1d6c42639",
   "metadata": {},
   "outputs": [],
   "source": [
    "import pickle as pkl\n",
    "import random\n",
    "import numpy as np"
   ]
  },
  {
   "cell_type": "code",
   "execution_count": 4,
   "id": "59e717a6-9274-4927-8e8e-145848c6e96c",
   "metadata": {},
   "outputs": [],
   "source": [
    "previous_data_path = '../models/initial/previous_data.pkl'\n",
    "with open(previous_data_path, 'rb') as f:\n",
    "    previous_data = pkl.load(f)\n",
    "    \n",
    "sudokus = [sudoku for x in previous_data for sudoku in x]\n",
    "\n",
    "random.Random(5).shuffle(sudokus)\n",
    "\n",
    "train_sudokus = [x for x in sudokus[:len(sudokus)//10*7]]\n",
    "val_sudokus = [x for x in sudokus[len(sudokus)//10*7:len(sudokus)//10*9]]\n",
    "test_sudokus = [x for x in sudokus[len(sudokus)//10*9:]]\n",
    "\n"
   ]
  },
  {
   "cell_type": "markdown",
   "id": "42a2a348-8060-4a65-930f-37f66027aed5",
   "metadata": {},
   "source": [
    "### Models"
   ]
  },
  {
   "cell_type": "code",
   "execution_count": 5,
   "id": "4b3f7408-6044-45e1-ba6b-8a69953f825e",
   "metadata": {},
   "outputs": [],
   "source": [
    "import os\n",
    "from deepsudoku.dsnn import se_resnet, transformer, sudoker, loss\n",
    "from collections import defaultdict\n",
    "import torch\n",
    "import datetime\n",
    "import time"
   ]
  },
  {
   "cell_type": "code",
   "execution_count": 6,
   "id": "1df0153b-beda-414e-8b82-01acc45b243b",
   "metadata": {},
   "outputs": [],
   "source": [
    "models = {\n",
    "    #model_name: lambda: model_function\n",
    "    \"SeResNet\": lambda: se_resnet.SeResNet(10, 128, 32).cuda(),\n",
    "    \"ViTTiTransformer\": lambda: transformer.Transformer(12,192,3,768,0).cuda(),\n",
    "    \"ViTTiSudoker\": lambda: sudoker.Sudoker(12,192,3,768,0).cuda()\n",
    "}\n",
    "\n",
    "batch_sizes = {\"SeResNet\": 2048, \"ViTTiTransformer\": 512, \"ViTTiSudoker\": 512}\n",
    "\n",
    "lrs = {\"SeResNet\": 1e-3, \"ViTTiTransformer\": 1e-5, \"ViTTiSudoker\": 1e-5}"
   ]
  },
  {
   "cell_type": "code",
   "execution_count": 7,
   "id": "ef32901d-5ee5-487e-ab15-f9b90980c1c8",
   "metadata": {},
   "outputs": [],
   "source": [
    "model_name = \"ViTTiSudoker\"\n",
    "network, batch_size = models[model_name](), batch_sizes[model_name]\n",
    "optimizer = torch.optim.Adam(network.parameters())\n",
    "loss_fn = loss.loss"
   ]
  },
  {
   "cell_type": "code",
   "execution_count": 8,
   "id": "dfba5f5c-26f0-4273-935e-2c371280e963",
   "metadata": {},
   "outputs": [
    {
     "name": "stdout",
     "output_type": "stream",
     "text": [
      "Loading model\n",
      "starting_epoch=180\n"
     ]
    }
   ],
   "source": [
    "model_path = f\"../models/training/{model_name}\"\n",
    "\n",
    "if os.path.exists(model_path):\n",
    "    print(\"Loading model\")\n",
    "    checkpoint = torch.load(model_path)\n",
    "    network.load_state_dict(checkpoint['model_state_dict'])\n",
    "    optimizer.load_state_dict(checkpoint['optimizer_state_dict'])\n",
    "    losses = checkpoint['losses']\n",
    "    cat_accs = checkpoint['cat_accs']\n",
    "    bin_accs = checkpoint['bin_accs']\n",
    "else:\n",
    "    losses = defaultdict(list)\n",
    "    cat_accs = defaultdict(list)\n",
    "    bin_accs = defaultdict(list)\n",
    "\n",
    "starting_epoch = len(losses['train'])\n",
    "print(f\"{starting_epoch=}\")"
   ]
  },
  {
   "cell_type": "markdown",
   "id": "10c62a3d-7c32-4e2a-bc74-8663847aded3",
   "metadata": {
    "tags": []
   },
   "source": [
    "### Training"
   ]
  },
  {
   "cell_type": "code",
   "execution_count": 9,
   "id": "f16bd911-c572-4c8f-9e88-673903d62b41",
   "metadata": {},
   "outputs": [],
   "source": [
    "from deepsudoku.utils import data_utils, network_utils\n",
    "from deepsudoku.dsnn import evaluation\n",
    "\n",
    "import torch"
   ]
  },
  {
   "cell_type": "code",
   "execution_count": 10,
   "id": "2c3641af-c122-4b3b-9fd7-4035e29ac9ce",
   "metadata": {},
   "outputs": [],
   "source": [
    "best_loss = np.Inf if len(losses) == 0 else losses['val'][-1]\n",
    "epochs = 1000"
   ]
  },
  {
   "cell_type": "code",
   "execution_count": 11,
   "id": "37b14e20-1611-4610-ade5-2b36840459ab",
   "metadata": {},
   "outputs": [
    {
     "ename": "KeyboardInterrupt",
     "evalue": "",
     "output_type": "error",
     "traceback": [
      "\u001B[0;31m---------------------------------------------------------------------------\u001B[0m",
      "\u001B[0;31mKeyboardInterrupt\u001B[0m                         Traceback (most recent call last)",
      "Input \u001B[0;32mIn [11]\u001B[0m, in \u001B[0;36m<cell line: 3>\u001B[0;34m()\u001B[0m\n\u001B[1;32m     21\u001B[0m x_np, y_np \u001B[38;5;241m=\u001B[39m data_utils\u001B[38;5;241m.\u001B[39mgenerate_numpy_batch(batch_sudokus, augment \u001B[38;5;241m=\u001B[39m augment)\n\u001B[1;32m     22\u001B[0m x, y \u001B[38;5;241m=\u001B[39m network_utils\u001B[38;5;241m.\u001B[39mnumpy_batch_to_pytorch(x_np, y_np, \u001B[38;5;124m'\u001B[39m\u001B[38;5;124mcuda\u001B[39m\u001B[38;5;124m'\u001B[39m)\n\u001B[0;32m---> 23\u001B[0m y_pred \u001B[38;5;241m=\u001B[39m \u001B[43mnetwork\u001B[49m\u001B[43m(\u001B[49m\u001B[43mx\u001B[49m\u001B[43m)\u001B[49m\n\u001B[1;32m     25\u001B[0m batch_p_loss, batch_v_loss \u001B[38;5;241m=\u001B[39m loss_fn(x, y_pred, y)    \n\u001B[1;32m     26\u001B[0m batch_loss \u001B[38;5;241m=\u001B[39m batch_v_loss \u001B[38;5;241m+\u001B[39m batch_p_loss\n",
      "File \u001B[0;32m/usr/local/lib/python3.9/dist-packages/torch/nn/modules/module.py:1130\u001B[0m, in \u001B[0;36mModule._call_impl\u001B[0;34m(self, *input, **kwargs)\u001B[0m\n\u001B[1;32m   1126\u001B[0m \u001B[38;5;66;03m# If we don't have any hooks, we want to skip the rest of the logic in\u001B[39;00m\n\u001B[1;32m   1127\u001B[0m \u001B[38;5;66;03m# this function, and just call forward.\u001B[39;00m\n\u001B[1;32m   1128\u001B[0m \u001B[38;5;28;01mif\u001B[39;00m \u001B[38;5;129;01mnot\u001B[39;00m (\u001B[38;5;28mself\u001B[39m\u001B[38;5;241m.\u001B[39m_backward_hooks \u001B[38;5;129;01mor\u001B[39;00m \u001B[38;5;28mself\u001B[39m\u001B[38;5;241m.\u001B[39m_forward_hooks \u001B[38;5;129;01mor\u001B[39;00m \u001B[38;5;28mself\u001B[39m\u001B[38;5;241m.\u001B[39m_forward_pre_hooks \u001B[38;5;129;01mor\u001B[39;00m _global_backward_hooks\n\u001B[1;32m   1129\u001B[0m         \u001B[38;5;129;01mor\u001B[39;00m _global_forward_hooks \u001B[38;5;129;01mor\u001B[39;00m _global_forward_pre_hooks):\n\u001B[0;32m-> 1130\u001B[0m     \u001B[38;5;28;01mreturn\u001B[39;00m \u001B[43mforward_call\u001B[49m\u001B[43m(\u001B[49m\u001B[38;5;241;43m*\u001B[39;49m\u001B[38;5;28;43minput\u001B[39;49m\u001B[43m,\u001B[49m\u001B[43m \u001B[49m\u001B[38;5;241;43m*\u001B[39;49m\u001B[38;5;241;43m*\u001B[39;49m\u001B[43mkwargs\u001B[49m\u001B[43m)\u001B[49m\n\u001B[1;32m   1131\u001B[0m \u001B[38;5;66;03m# Do not call functions when jit is used\u001B[39;00m\n\u001B[1;32m   1132\u001B[0m full_backward_hooks, non_full_backward_hooks \u001B[38;5;241m=\u001B[39m [], []\n",
      "File \u001B[0;32m/usr/local/lib/python3.9/dist-packages/deepsudoku/nn/sudoker.py:138\u001B[0m, in \u001B[0;36mSudoker.forward\u001B[0;34m(self, x)\u001B[0m\n\u001B[1;32m    135\u001B[0m \u001B[38;5;28;01mif\u001B[39;00m x\u001B[38;5;241m.\u001B[39mshape[\u001B[38;5;241m1\u001B[39m] \u001B[38;5;241m==\u001B[39m \u001B[38;5;241m1\u001B[39m:\n\u001B[1;32m    136\u001B[0m     \u001B[38;5;66;03m# Must one-hot encode!\u001B[39;00m\n\u001B[1;32m    137\u001B[0m     x \u001B[38;5;241m=\u001B[39m to_categorical(x)\n\u001B[0;32m--> 138\u001B[0m x \u001B[38;5;241m=\u001B[39m \u001B[38;5;28;43mself\u001B[39;49m\u001B[38;5;241;43m.\u001B[39;49m\u001B[43membedding\u001B[49m\u001B[43m(\u001B[49m\u001B[43mx\u001B[49m\u001B[43m)\u001B[49m\n\u001B[1;32m    139\u001B[0m x \u001B[38;5;241m=\u001B[39m \u001B[38;5;28mself\u001B[39m\u001B[38;5;241m.\u001B[39mencoder(x)\n\u001B[1;32m    140\u001B[0m p, v \u001B[38;5;241m=\u001B[39m \u001B[38;5;28mself\u001B[39m\u001B[38;5;241m.\u001B[39mdecoder(x)\n",
      "File \u001B[0;32m/usr/local/lib/python3.9/dist-packages/torch/nn/modules/module.py:1130\u001B[0m, in \u001B[0;36mModule._call_impl\u001B[0;34m(self, *input, **kwargs)\u001B[0m\n\u001B[1;32m   1126\u001B[0m \u001B[38;5;66;03m# If we don't have any hooks, we want to skip the rest of the logic in\u001B[39;00m\n\u001B[1;32m   1127\u001B[0m \u001B[38;5;66;03m# this function, and just call forward.\u001B[39;00m\n\u001B[1;32m   1128\u001B[0m \u001B[38;5;28;01mif\u001B[39;00m \u001B[38;5;129;01mnot\u001B[39;00m (\u001B[38;5;28mself\u001B[39m\u001B[38;5;241m.\u001B[39m_backward_hooks \u001B[38;5;129;01mor\u001B[39;00m \u001B[38;5;28mself\u001B[39m\u001B[38;5;241m.\u001B[39m_forward_hooks \u001B[38;5;129;01mor\u001B[39;00m \u001B[38;5;28mself\u001B[39m\u001B[38;5;241m.\u001B[39m_forward_pre_hooks \u001B[38;5;129;01mor\u001B[39;00m _global_backward_hooks\n\u001B[1;32m   1129\u001B[0m         \u001B[38;5;129;01mor\u001B[39;00m _global_forward_hooks \u001B[38;5;129;01mor\u001B[39;00m _global_forward_pre_hooks):\n\u001B[0;32m-> 1130\u001B[0m     \u001B[38;5;28;01mreturn\u001B[39;00m \u001B[43mforward_call\u001B[49m\u001B[43m(\u001B[49m\u001B[38;5;241;43m*\u001B[39;49m\u001B[38;5;28;43minput\u001B[39;49m\u001B[43m,\u001B[49m\u001B[43m \u001B[49m\u001B[38;5;241;43m*\u001B[39;49m\u001B[38;5;241;43m*\u001B[39;49m\u001B[43mkwargs\u001B[49m\u001B[43m)\u001B[49m\n\u001B[1;32m   1131\u001B[0m \u001B[38;5;66;03m# Do not call functions when jit is used\u001B[39;00m\n\u001B[1;32m   1132\u001B[0m full_backward_hooks, non_full_backward_hooks \u001B[38;5;241m=\u001B[39m [], []\n",
      "File \u001B[0;32m/usr/local/lib/python3.9/dist-packages/deepsudoku/nn/transformer.py:18\u001B[0m, in \u001B[0;36mEmbedding.forward\u001B[0;34m(self, x)\u001B[0m\n\u001B[1;32m     17\u001B[0m \u001B[38;5;28;01mdef\u001B[39;00m \u001B[38;5;21mforward\u001B[39m(\u001B[38;5;28mself\u001B[39m, x):\n\u001B[0;32m---> 18\u001B[0m     x \u001B[38;5;241m=\u001B[39m \u001B[38;5;28mself\u001B[39m\u001B[38;5;241m.\u001B[39mflatten(\u001B[38;5;28;43mself\u001B[39;49m\u001B[38;5;241;43m.\u001B[39;49m\u001B[43mproject\u001B[49m\u001B[43m(\u001B[49m\u001B[43mx\u001B[49m\u001B[43m)\u001B[49m)\n\u001B[1;32m     19\u001B[0m     \u001B[38;5;28mcls\u001B[39m \u001B[38;5;241m=\u001B[39m einops\u001B[38;5;241m.\u001B[39mrepeat(\u001B[38;5;28mself\u001B[39m\u001B[38;5;241m.\u001B[39mcls, \u001B[38;5;124m'\u001B[39m\u001B[38;5;124m() n e -> b n e\u001B[39m\u001B[38;5;124m'\u001B[39m, b\u001B[38;5;241m=\u001B[39mx\u001B[38;5;241m.\u001B[39mshape[\u001B[38;5;241m0\u001B[39m])\n\u001B[1;32m     20\u001B[0m     x \u001B[38;5;241m=\u001B[39m torch\u001B[38;5;241m.\u001B[39mcat([\u001B[38;5;28mcls\u001B[39m, x], dim\u001B[38;5;241m=\u001B[39m\u001B[38;5;241m1\u001B[39m)\n",
      "File \u001B[0;32m/usr/local/lib/python3.9/dist-packages/torch/nn/modules/module.py:1130\u001B[0m, in \u001B[0;36mModule._call_impl\u001B[0;34m(self, *input, **kwargs)\u001B[0m\n\u001B[1;32m   1126\u001B[0m \u001B[38;5;66;03m# If we don't have any hooks, we want to skip the rest of the logic in\u001B[39;00m\n\u001B[1;32m   1127\u001B[0m \u001B[38;5;66;03m# this function, and just call forward.\u001B[39;00m\n\u001B[1;32m   1128\u001B[0m \u001B[38;5;28;01mif\u001B[39;00m \u001B[38;5;129;01mnot\u001B[39;00m (\u001B[38;5;28mself\u001B[39m\u001B[38;5;241m.\u001B[39m_backward_hooks \u001B[38;5;129;01mor\u001B[39;00m \u001B[38;5;28mself\u001B[39m\u001B[38;5;241m.\u001B[39m_forward_hooks \u001B[38;5;129;01mor\u001B[39;00m \u001B[38;5;28mself\u001B[39m\u001B[38;5;241m.\u001B[39m_forward_pre_hooks \u001B[38;5;129;01mor\u001B[39;00m _global_backward_hooks\n\u001B[1;32m   1129\u001B[0m         \u001B[38;5;129;01mor\u001B[39;00m _global_forward_hooks \u001B[38;5;129;01mor\u001B[39;00m _global_forward_pre_hooks):\n\u001B[0;32m-> 1130\u001B[0m     \u001B[38;5;28;01mreturn\u001B[39;00m \u001B[43mforward_call\u001B[49m\u001B[43m(\u001B[49m\u001B[38;5;241;43m*\u001B[39;49m\u001B[38;5;28;43minput\u001B[39;49m\u001B[43m,\u001B[49m\u001B[43m \u001B[49m\u001B[38;5;241;43m*\u001B[39;49m\u001B[38;5;241;43m*\u001B[39;49m\u001B[43mkwargs\u001B[49m\u001B[43m)\u001B[49m\n\u001B[1;32m   1131\u001B[0m \u001B[38;5;66;03m# Do not call functions when jit is used\u001B[39;00m\n\u001B[1;32m   1132\u001B[0m full_backward_hooks, non_full_backward_hooks \u001B[38;5;241m=\u001B[39m [], []\n",
      "File \u001B[0;32m/usr/local/lib/python3.9/dist-packages/torch/nn/modules/conv.py:457\u001B[0m, in \u001B[0;36mConv2d.forward\u001B[0;34m(self, input)\u001B[0m\n\u001B[1;32m    456\u001B[0m \u001B[38;5;28;01mdef\u001B[39;00m \u001B[38;5;21mforward\u001B[39m(\u001B[38;5;28mself\u001B[39m, \u001B[38;5;28minput\u001B[39m: Tensor) \u001B[38;5;241m-\u001B[39m\u001B[38;5;241m>\u001B[39m Tensor:\n\u001B[0;32m--> 457\u001B[0m     \u001B[38;5;28;01mreturn\u001B[39;00m \u001B[38;5;28;43mself\u001B[39;49m\u001B[38;5;241;43m.\u001B[39;49m\u001B[43m_conv_forward\u001B[49m\u001B[43m(\u001B[49m\u001B[38;5;28;43minput\u001B[39;49m\u001B[43m,\u001B[49m\u001B[43m \u001B[49m\u001B[38;5;28;43mself\u001B[39;49m\u001B[38;5;241;43m.\u001B[39;49m\u001B[43mweight\u001B[49m\u001B[43m,\u001B[49m\u001B[43m \u001B[49m\u001B[38;5;28;43mself\u001B[39;49m\u001B[38;5;241;43m.\u001B[39;49m\u001B[43mbias\u001B[49m\u001B[43m)\u001B[49m\n",
      "File \u001B[0;32m/usr/local/lib/python3.9/dist-packages/torch/nn/modules/conv.py:453\u001B[0m, in \u001B[0;36mConv2d._conv_forward\u001B[0;34m(self, input, weight, bias)\u001B[0m\n\u001B[1;32m    449\u001B[0m \u001B[38;5;28;01mif\u001B[39;00m \u001B[38;5;28mself\u001B[39m\u001B[38;5;241m.\u001B[39mpadding_mode \u001B[38;5;241m!=\u001B[39m \u001B[38;5;124m'\u001B[39m\u001B[38;5;124mzeros\u001B[39m\u001B[38;5;124m'\u001B[39m:\n\u001B[1;32m    450\u001B[0m     \u001B[38;5;28;01mreturn\u001B[39;00m F\u001B[38;5;241m.\u001B[39mconv2d(F\u001B[38;5;241m.\u001B[39mpad(\u001B[38;5;28minput\u001B[39m, \u001B[38;5;28mself\u001B[39m\u001B[38;5;241m.\u001B[39m_reversed_padding_repeated_twice, mode\u001B[38;5;241m=\u001B[39m\u001B[38;5;28mself\u001B[39m\u001B[38;5;241m.\u001B[39mpadding_mode),\n\u001B[1;32m    451\u001B[0m                     weight, bias, \u001B[38;5;28mself\u001B[39m\u001B[38;5;241m.\u001B[39mstride,\n\u001B[1;32m    452\u001B[0m                     _pair(\u001B[38;5;241m0\u001B[39m), \u001B[38;5;28mself\u001B[39m\u001B[38;5;241m.\u001B[39mdilation, \u001B[38;5;28mself\u001B[39m\u001B[38;5;241m.\u001B[39mgroups)\n\u001B[0;32m--> 453\u001B[0m \u001B[38;5;28;01mreturn\u001B[39;00m \u001B[43mF\u001B[49m\u001B[38;5;241;43m.\u001B[39;49m\u001B[43mconv2d\u001B[49m\u001B[43m(\u001B[49m\u001B[38;5;28;43minput\u001B[39;49m\u001B[43m,\u001B[49m\u001B[43m \u001B[49m\u001B[43mweight\u001B[49m\u001B[43m,\u001B[49m\u001B[43m \u001B[49m\u001B[43mbias\u001B[49m\u001B[43m,\u001B[49m\u001B[43m \u001B[49m\u001B[38;5;28;43mself\u001B[39;49m\u001B[38;5;241;43m.\u001B[39;49m\u001B[43mstride\u001B[49m\u001B[43m,\u001B[49m\n\u001B[1;32m    454\u001B[0m \u001B[43m                \u001B[49m\u001B[38;5;28;43mself\u001B[39;49m\u001B[38;5;241;43m.\u001B[39;49m\u001B[43mpadding\u001B[49m\u001B[43m,\u001B[49m\u001B[43m \u001B[49m\u001B[38;5;28;43mself\u001B[39;49m\u001B[38;5;241;43m.\u001B[39;49m\u001B[43mdilation\u001B[49m\u001B[43m,\u001B[49m\u001B[43m \u001B[49m\u001B[38;5;28;43mself\u001B[39;49m\u001B[38;5;241;43m.\u001B[39;49m\u001B[43mgroups\u001B[49m\u001B[43m)\u001B[49m\n",
      "\u001B[0;31mKeyboardInterrupt\u001B[0m: "
     ]
    }
   ],
   "source": [
    "train = True\n",
    "\n",
    "if train:\n",
    "    for epoch in range(starting_epoch, epochs):\n",
    "        for phase in ['train', 'val']:\n",
    "            if phase == 'train':\n",
    "                augment = True                \n",
    "                sudokus = train_sudokus\n",
    "                random.shuffle(sudokus)\n",
    "                network.train()\n",
    "            else:\n",
    "                augment = False\n",
    "                sudokus = val_sudokus\n",
    "                network.eval()\n",
    "\n",
    "            batch_losses, batch_cat_accs, batch_bin_accs = [], [], []\n",
    "\n",
    "            for i in range(0, len(sudokus), batch_size):\n",
    "                batch_sudokus = sudokus[i:i+batch_size]\n",
    "\n",
    "                x_np, y_np = data_utils.generate_numpy_batch(batch_sudokus, augment = augment)\n",
    "                x, y = network_utils.numpy_batch_to_pytorch(x_np, y_np, 'cuda')\n",
    "                y_pred = network(x)\n",
    "                \n",
    "                batch_p_loss, batch_v_loss = loss_fn(x, y_pred, y)    \n",
    "                batch_loss = batch_v_loss + batch_p_loss\n",
    "                batch_cat_acc = evaluation.categorical_accuracy(x, y, y_pred)\n",
    "                batch_bin_acc = evaluation.binary_accuracy(y, y_pred)\n",
    "\n",
    "                batch_losses.append(batch_loss.item())\n",
    "                batch_cat_accs.append(batch_cat_acc)\n",
    "                batch_bin_accs.append(batch_bin_acc)\n",
    "\n",
    "                if phase == 'train':\n",
    "                    optimizer.zero_grad()\n",
    "                    batch_loss.backward()\n",
    "                    torch.nn.utils.clip_grad_norm_(network.parameters(), 1)\n",
    "                    optimizer.step()\n",
    "\n",
    "                print(f\"Phase {phase}, batch {min(i+batch_size, len(sudokus))}/{len(sudokus)}, {batch_p_loss.item()=:.4f}, \" \n",
    "                      f\"{batch_v_loss=:.4f}, {batch_cat_acc=:.4f}, {batch_bin_acc=:.4f}.\", end = \"\\r\")\n",
    "            \n",
    "            if phase == 'val':\n",
    "                time.sleep(10)\n",
    "            \n",
    "            losses[phase].append(sum(batch_losses)/len(batch_losses))\n",
    "            cat_accs[phase].append(sum(batch_cat_accs)/len(batch_cat_accs))\n",
    "            bin_accs[phase].append(sum(batch_bin_accs)/len(batch_bin_accs))\n",
    "\n",
    "        if losses['val'][-1] < best_loss:\n",
    "            best_loss = losses['val'][-1]\n",
    "            print(\"Saving the network!                                            \"\n",
    "                  \"                                                               \")\n",
    "            torch.save({\n",
    "                'model_state_dict': network.state_dict(),\n",
    "                'optimizer_state_dict': optimizer.state_dict(),\n",
    "                'cat_accs': cat_accs,\n",
    "                'bin_accs': bin_accs,\n",
    "                'losses': losses,\n",
    "                }, f'{model_path}')\n",
    "\n",
    "\n",
    "        print(f'Epoch {epoch}, loss = {losses[\"val\"][-1]:.4f}, cat_acc = {cat_accs[\"val\"][-1]:.4f}, '\n",
    "              f'bin_acc = {bin_accs[\"val\"][-1]:.4f}, time = {datetime.datetime.now()}.                                ')"
   ]
  },
  {
   "cell_type": "markdown",
   "id": "68fe4990-491f-4a39-8106-ddd138fcd1cb",
   "metadata": {},
   "source": [
    "### Plotting"
   ]
  },
  {
   "cell_type": "code",
   "execution_count": 17,
   "id": "683af546-0070-4af1-8695-716416124307",
   "metadata": {},
   "outputs": [],
   "source": [
    "from matplotlib import pyplot as plt"
   ]
  },
  {
   "cell_type": "code",
   "execution_count": 20,
   "id": "0fd1ffcc-931d-4541-92ca-e8126712116d",
   "metadata": {},
   "outputs": [],
   "source": [
    "losses_model_dict = {}\n",
    "for model_name in ['SeResNet', 'ViTTiTransformer', 'ViTTiSudoker']:\n",
    "    model_path = f\"../models/training/{model_name}\"\n",
    "\n",
    "    checkpoint = torch.load(model_path)\n",
    "    losses_model_dict[model_name] = checkpoint['losses']"
   ]
  },
  {
   "cell_type": "code",
   "execution_count": 23,
   "id": "1fbdb0bf-ab57-49b7-8260-9ebdf5555920",
   "metadata": {},
   "outputs": [
    {
     "data": {
      "image/png": "[encoded data removed]",
      "text/plain": [
       "<Figure size 432x288 with 1 Axes>"
      ]
     },
     "metadata": {
      "needs_background": "light"
     },
     "output_type": "display_data"
    }
   ],
   "source": [
    "plt.plot(losses_model_dict['SeResNet']['train'][:120])\n",
    "plt.plot(losses_model_dict['ViTTiTransformer']['train'][:120])\n",
    "plt.plot(losses_model_dict['ViTTiSudoker']['train'][:120])\n",
    "plt.show()\n"
   ]
  },
  {
   "cell_type": "code",
   "execution_count": null,
   "id": "c5d1af05-caa7-4089-a636-6432ae798e9d",
   "metadata": {},
   "outputs": [],
   "source": []
  }
 ],
 "metadata": {
  "kernelspec": {
   "display_name": "Python 3 (ipykernel)",
   "language": "python",
   "name": "python3"
  },
  "language_info": {
   "codemirror_mode": {
    "name": "ipython",
    "version": 3
   },
   "file_extension": ".py",
   "mimetype": "text/x-python",
   "name": "python",
   "nbconvert_exporter": "python",
   "pygments_lexer": "ipython3",
   "version": "3.9.13"
  }
 },
 "nbformat": 4,
 "nbformat_minor": 5
}
