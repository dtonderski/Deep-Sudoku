{
 "cells": [
  {
   "cell_type": "markdown",
   "id": "495740aa-98d9-41eb-96fb-1b7ecbd3c02f",
   "metadata": {},
   "source": [
    "### 1. Difficulty determination\n",
    "In this notebook, we will train a Squeeze Excitation ResNet on sudokus with the number of empty cells distributed uniformly between [1, 64],\n",
    "and then use this network to determine the \"natural difficulty\" of sudokus by calculating the p loss as a function of the number of empty cells. \n",
    "This is a rough approximation for many reasons, some of which include:\n",
    "1. We are only analyzing p loss, not v loss.\n",
    "2. The \"natural difficulty\" of sudokus will be different for each network architecture."
   ]
  },
  {
   "cell_type": "markdown",
   "id": "da04b561-99bf-4e63-a3cc-adbac955a723",
   "metadata": {},
   "source": [
    "### Initialization"
   ]
  },
  {
   "cell_type": "code",
   "execution_count": 1,
   "id": "58ddf4bf-54f9-4396-908f-96f422a90618",
   "metadata": {},
   "outputs": [
    {
     "name": "stdout",
     "output_type": "stream",
     "text": [
      "\u001B[33mWARNING: Running pip as the 'root' user can result in broken permissions and conflicting behaviour with the system package manager. It is recommended to use a virtual environment instead: https://pip.pypa.io/warnings/venv\u001B[0m\u001B[33m\n",
      "\u001B[0m"
     ]
    }
   ],
   "source": [
    "!pip install --upgrade --quiet git+https://github.com/dtonderski/DeepSudoku"
   ]
  },
  {
   "cell_type": "code",
   "execution_count": 2,
   "id": "7f99791f-a079-471f-908d-f76f8775b25d",
   "metadata": {},
   "outputs": [
    {
     "name": "stdout",
     "output_type": "stream",
     "text": [
      "Name: deepsudoku\n",
      "Version: 0.7.5.3\n",
      "Summary: Solving Sudokus using a Neural Network assisted Monte-Carlo approach.\n",
      "Home-page: https://github.com/dtonderski/DeepSudoku\n",
      "Author: davton\n",
      "Author-email: dtonderski@gmail.com\n",
      "License: GNU GPLv3\n",
      "Location: /usr/local/lib/python3.9/dist-packages\n",
      "Requires: einops, numpy, py-sudoku, torch\n",
      "Required-by: \n"
     ]
    }
   ],
   "source": [
    "!pip show deepsudoku"
   ]
  },
  {
   "cell_type": "markdown",
   "id": "514d2d11-8959-4539-8fea-022a32e61d16",
   "metadata": {
    "tags": []
   },
   "source": [
    "### Data\n",
    "Starting from solved sudoku, first split the data into train/val/test, then load it into memory"
   ]
  },
  {
   "cell_type": "code",
   "execution_count": null,
   "id": "d4fe51a1-8db0-4f82-b675-aa36f9f98f3e",
   "metadata": {},
   "outputs": [],
   "source": [
    "from deepsudoku.utils import data_utils"
   ]
  },
  {
   "cell_type": "code",
   "execution_count": null,
   "id": "c1c629a1-dd8f-43a7-8bff-7589a74d0798",
   "metadata": {},
   "outputs": [],
   "source": [
    "data_utils.split_data()"
   ]
  },
  {
   "cell_type": "code",
   "execution_count": null,
   "id": "136f7f6f-ba1c-43e8-9889-283f63f7a7e4",
   "metadata": {},
   "outputs": [],
   "source": [
    "train_sudokus_raw, val_sudokus_raw, test_sudokus_raw = data_utils.load_data()"
   ]
  },
  {
   "cell_type": "code",
   "execution_count": null,
   "id": "d6b228a2-70c3-47c7-a1ef-6a574d061bba",
   "metadata": {},
   "outputs": [],
   "source": [
    "val_sudokus = data_utils.make_moves(val_sudokus_raw, n_moves_distribution=data_utils.uniform_possible_moves_distribution)"
   ]
  },
  {
   "cell_type": "markdown",
   "id": "9d2584ad-3c0d-4ef8-9f7f-dd1f46ad79c2",
   "metadata": {},
   "source": [
    "### Network\n",
    "Load and configure the neural network"
   ]
  },
  {
   "cell_type": "code",
   "execution_count": 7,
   "id": "948d021f-69a4-4eb3-800c-44fb28bed3fb",
   "metadata": {},
   "outputs": [],
   "source": [
    "from deepsudoku.dsnn import se_resnet, loss, evaluation\n",
    "from deepsudoku.utils import network_utils\n",
    "import torch\n",
    "import random\n",
    "from collections import defaultdict\n",
    "import datetime\n",
    "import os\n",
    "import numpy as np"
   ]
  },
  {
   "cell_type": "code",
   "execution_count": 8,
   "id": "3994e43e-cf86-46e9-8715-37436535c6bd",
   "metadata": {},
   "outputs": [],
   "source": [
    "network = se_resnet.SeResNet(blocks = 10, filters = 128, se_channels = 32, dropout = 0.2).cuda()\n",
    "optimizer = torch.optim.Adam(network.parameters())\n",
    "loss_fn = loss.loss"
   ]
  },
  {
   "cell_type": "markdown",
   "id": "0e3ab93d-d845-45d3-bca6-925678595821",
   "metadata": {
    "tags": []
   },
   "source": [
    "### Training"
   ]
  },
  {
   "cell_type": "code",
   "execution_count": 9,
   "id": "95b3de98-e6bc-4c26-a419-807b94a06cb2",
   "metadata": {},
   "outputs": [],
   "source": [
    "phase_augment = {'train': True, 'val': False}\n",
    "batch_size = 2048\n",
    "epochs = 1000"
   ]
  },
  {
   "cell_type": "code",
   "execution_count": 10,
   "id": "99575f71-f49d-4d91-b11a-2a4b0cd1d607",
   "metadata": {},
   "outputs": [
    {
     "name": "stdout",
     "output_type": "stream",
     "text": [
      "Loading model\n"
     ]
    }
   ],
   "source": [
    "best_model_path = f'../models/difficulty/best.pth'\n",
    "if os.path.exists(best_model_path):\n",
    "    print(\"Loading model\")\n",
    "    checkpoint = torch.load(best_model_path)\n",
    "    network.load_state_dict(checkpoint['model_state_dict'])\n",
    "    optimizer.load_state_dict(checkpoint['optimizer_state_dict'])\n",
    "    losses = checkpoint['losses']\n",
    "    cat_accs = checkpoint['cat_accs']\n",
    "else:\n",
    "    losses = defaultdict(list)\n",
    "    cat_accs = defaultdict(list)\n",
    "    \n",
    "starting_epoch = len(losses['val'])\n",
    "best_loss = np.Inf if len(losses['val']) == 0 else losses['val'][-1]"
   ]
  },
  {
   "cell_type": "code",
   "execution_count": 11,
   "id": "d61eeeb3-be8a-4786-ae7c-68fc31095171",
   "metadata": {
    "tags": []
   },
   "outputs": [],
   "source": [
    "train = False\n",
    "\n",
    "if train:\n",
    "    for epoch in range(starting_epoch, epochs):\n",
    "        train_sudokus = data_utils.make_moves(train_sudokus_raw, n_moves_distribution=data_utils.uniform_possible_moves_distribution)\n",
    "        for phase in ['train' ,'val']:\n",
    "\n",
    "            augment = phase_augment[phase]\n",
    "\n",
    "            if phase == 'train':\n",
    "                sudokus = train_sudokus\n",
    "                random.shuffle(sudokus)\n",
    "                network.train()\n",
    "            else:\n",
    "                sudokus = val_sudokus\n",
    "                network.eval()\n",
    "\n",
    "            batch_losses = []\n",
    "            batch_cat_accs = []\n",
    "            for i in range(0, len(sudokus), batch_size):\n",
    "                batch_sudokus = sudokus[i:i+batch_size]\n",
    "\n",
    "                x_np, y_np = data_utils.generate_numpy_batch(batch_sudokus, augment = augment)\n",
    "                x, y = network_utils.numpy_batch_to_pytorch(x_np, y_np, 'cuda')\n",
    "                y_pred = network(x)\n",
    "\n",
    "                v_loss_mask = torch.zeros(y[1].shape).cuda()\n",
    "                batch_p_loss, batch_v_loss = loss_fn(x, y_pred, y, mask = v_loss_mask)    \n",
    "                batch_loss = batch_v_loss + batch_p_loss\n",
    "                batch_cat_acc = evaluation.categorical_accuracy(x, y, y_pred)\n",
    "\n",
    "                batch_losses.append(batch_loss.item())\n",
    "                batch_cat_accs.append(batch_cat_acc)\n",
    "\n",
    "                if phase == 'train':\n",
    "                    optimizer.zero_grad()\n",
    "                    batch_loss.backward()\n",
    "                    torch.nn.utils.clip_grad_norm_(network.parameters(), 1)\n",
    "                    optimizer.step()\n",
    "\n",
    "                print(f\"Phase {phase}, batch {min(i+batch_size, len(sudokus))}/{len(sudokus)}, {batch_p_loss.item()=:.4f}, {batch_cat_acc=:.4f}\", end = \"\\r\")\n",
    "\n",
    "            losses[phase].append(sum(batch_losses)/len(batch_losses))\n",
    "            cat_accs[phase].append(sum(batch_cat_accs)/len(batch_cat_accs))\n",
    "\n",
    "        if losses['val'][-1] < best_loss:\n",
    "            best_loss = losses['val'][-1]\n",
    "            torch.save({\n",
    "                'model_state_dict': network.state_dict(),\n",
    "                'optimizer_state_dict': optimizer.state_dict(),\n",
    "                'cat_accs': cat_accs,\n",
    "                'losses': losses,\n",
    "                }, f'{best_model_path}')\n",
    "\n",
    "\n",
    "        print(f'Epoch {epoch}, loss = {losses[\"val\"][-1]:.4f}, acc = {cat_accs[\"val\"][-1]:.4f}, time = {datetime.datetime.now()}.                                       ')"
   ]
  },
  {
   "cell_type": "markdown",
   "id": "fa0f3389-fefa-435d-888c-fd69a7473fdc",
   "metadata": {},
   "source": [
    "### Plotting\n",
    "Plot the losses to see if overfitting is experienced"
   ]
  },
  {
   "cell_type": "code",
   "execution_count": 12,
   "id": "ee10c9d8-693b-4b0d-ba94-48e97bda177a",
   "metadata": {},
   "outputs": [],
   "source": [
    "from matplotlib import pyplot as plt"
   ]
  },
  {
   "cell_type": "code",
   "execution_count": 13,
   "id": "b938611e-71d8-4078-a97f-c75ac3b4755f",
   "metadata": {},
   "outputs": [
    {
     "data": {
      "image/png": "[encoded data removed]",
      "text/plain": [
       "<Figure size 432x288 with 1 Axes>"
      ]
     },
     "metadata": {
      "needs_background": "light"
     },
     "output_type": "display_data"
    }
   ],
   "source": [
    "plt.plot(losses['train'])\n",
    "plt.plot(losses['val'])\n",
    "plt.legend(['Train loss', 'Validation loss'])\n",
    "plt.grid()\n",
    "plt.xlabel('Epoch')\n",
    "plt.ylabel('Loss')\n",
    "plt.show()"
   ]
  },
  {
   "cell_type": "code",
   "execution_count": 14,
   "id": "f8cbc923-7e8e-4e29-a65d-2cd9b3a8a8fc",
   "metadata": {},
   "outputs": [],
   "source": [
    "test_sudokus = data_utils.make_moves(test_sudokus_raw, n_moves_distribution=data_utils.uniform_possible_moves_distribution)"
   ]
  },
  {
   "cell_type": "code",
   "execution_count": 15,
   "id": "c1eacd27-a3d3-4eb9-ab31-f3f4254245c9",
   "metadata": {},
   "outputs": [],
   "source": [
    "x_np, y_np = data_utils.generate_numpy_batch(test_sudokus, augment = False)\n",
    "x, y = network_utils.numpy_batch_to_pytorch(x_np, y_np, 'cuda')\n",
    "y_pred = network(x)"
   ]
  },
  {
   "cell_type": "code",
   "execution_count": 16,
   "id": "d9de1ccd-28a9-469d-80e0-4abcc7b835de",
   "metadata": {},
   "outputs": [],
   "source": [
    "v_loss_mask = torch.zeros(y[1].shape).cuda()\n",
    "loss, _ = loss_fn(x, y_pred, y, mask = v_loss_mask)    "
   ]
  },
  {
   "cell_type": "code",
   "execution_count": 17,
   "id": "54a04ac4-4f2b-4258-ab30-b8f117b72fec",
   "metadata": {},
   "outputs": [
    {
     "name": "stdout",
     "output_type": "stream",
     "text": [
      "Test loss is 0.2115. Validation loss is 0.2182. Train loss is 0.2144.\n"
     ]
    }
   ],
   "source": [
    "print(f\"Test loss is {loss:.4f}. Validation loss is {losses['val'][-1]:.4f}. Train loss is {losses['train'][-1]:.4f}.\")"
   ]
  },
  {
   "cell_type": "markdown",
   "id": "76037faa-779e-4eed-8b50-4d273ea61b71",
   "metadata": {},
   "source": [
    "### Difficulty calculation\n",
    "As we can see, we have no overfitting, so we can now determine the difficulty. We will be using test and validation sudokus."
   ]
  },
  {
   "cell_type": "code",
   "execution_count": 18,
   "id": "1d366fc3-6fe6-4a27-9b0b-36e97771358b",
   "metadata": {},
   "outputs": [],
   "source": [
    "difficulty_sudokus = data_utils.make_moves(test_sudokus_raw+val_sudokus_raw, n_moves_distribution=data_utils.uniform_possible_moves_distribution)"
   ]
  },
  {
   "cell_type": "code",
   "execution_count": 19,
   "id": "7309b065-685c-4f58-85c9-78399a05d9f4",
   "metadata": {},
   "outputs": [],
   "source": [
    "x_np, y_np = data_utils.generate_numpy_batch(difficulty_sudokus, augment = False)\n",
    "x_difficulty, y_difficulty = network_utils.numpy_batch_to_pytorch(x_np, y_np, 'cuda')\n",
    "y_pred_difficulty = network(x_difficulty)"
   ]
  },
  {
   "cell_type": "code",
   "execution_count": 20,
   "id": "8cfb5957-f7ff-40e7-98d4-3e63e70571f5",
   "metadata": {
    "tags": []
   },
   "outputs": [],
   "source": [
    "loss_by_empty_cells = defaultdict(list)\n",
    "\n",
    "\n",
    "for i in range(x_difficulty.shape[0]):\n",
    "    x      = x_difficulty[i:i+1]\n",
    "    y      = (y_difficulty[0][i:i+1],      y_difficulty[1][i:i+1])\n",
    "    y_pred = (y_pred_difficulty[0][i:i+1], y_pred_difficulty[1][i:i+1])\n",
    "    \n",
    "    empty_cells = int((x == 0).sum().cpu())\n",
    "    \n",
    "    loss, _ = loss_fn(x, y_pred, y)\n",
    "    loss_by_empty_cells[empty_cells].append(loss.detach().cpu().item())"
   ]
  },
  {
   "cell_type": "code",
   "execution_count": 21,
   "id": "25e7f3b8-a32f-4d8e-82f9-e65f0f564f57",
   "metadata": {},
   "outputs": [],
   "source": [
    "loss_by_empty_cells_avgd = {k: sum(v)/len(v) for k, v in loss_by_empty_cells.items()}"
   ]
  },
  {
   "cell_type": "code",
   "execution_count": 22,
   "id": "0ae8187d-23d0-498e-a746-66add4bc5f98",
   "metadata": {},
   "outputs": [
    {
     "data": {
      "image/png": "[encoded data removed]",
      "text/plain": [
       "<Figure size 432x288 with 1 Axes>"
      ]
     },
     "metadata": {
      "needs_background": "light"
     },
     "output_type": "display_data"
    }
   ],
   "source": [
    "plt.plot(loss_by_empty_cells_avgd.keys(), loss_by_empty_cells_avgd.values(), '.')\n",
    "plt.grid()\n",
    "plt.xlabel('Number of empty cells')\n",
    "plt.ylabel('p loss')\n",
    "plt.title('p loss as a function of the number of empty cells')\n",
    "plt.show()\n"
   ]
  },
  {
   "cell_type": "markdown",
   "id": "aaeacd6b-54f7-4bc6-b6ae-0ca484b097e6",
   "metadata": {},
   "source": [
    "We don't have any data on how \"difficult\" a zero-empty-cells sudoku is, so extend by assuming it's the same as the one-empty-cell sudoku.\n"
   ]
  },
  {
   "cell_type": "code",
   "execution_count": 28,
   "id": "11b85b22-0d60-4cb6-a0c9-3a2be39dcd0d",
   "metadata": {},
   "outputs": [],
   "source": [
    "difficulty = [x[1] for x in sorted(loss_by_empty_cells_avgd.items())]\n",
    "difficulty = [difficulty[0]] + difficulty\n",
    "difficulty = [x / difficulty[-1] for x in difficulty]"
   ]
  },
  {
   "cell_type": "code",
   "execution_count": 29,
   "id": "00305d53-f6ed-4898-a358-fb2969bd1779",
   "metadata": {},
   "outputs": [
    {
     "data": {
      "image/png": "[encoded data removed]",
      "text/plain": [
       "<Figure size 432x288 with 1 Axes>"
      ]
     },
     "metadata": {
      "needs_background": "light"
     },
     "output_type": "display_data"
    }
   ],
   "source": [
    "plt.plot(difficulty)\n",
    "plt.title(\"Normalized difficulty vs number of empty cells\")\n",
    "plt.xlabel('Number of empty cells')\n",
    "plt.ylabel('Normalized difficulty')\n",
    "plt.grid()\n",
    "plt.show()"
   ]
  },
  {
   "cell_type": "markdown",
   "id": "10839548-9733-49ee-8a4a-d837ee68390c",
   "metadata": {},
   "source": [
    "Save the normalized and extended difficulty as a numpy array."
   ]
  },
  {
   "cell_type": "code",
   "execution_count": 30,
   "id": "6badcf5d-1dfe-4aa2-a519-8815d7874b35",
   "metadata": {},
   "outputs": [],
   "source": [
    "data_utils.save_difficulty(difficulty)"
   ]
  },
  {
   "cell_type": "markdown",
   "id": "f19d7a47-b703-4772-8024-28826c92381e",
   "metadata": {},
   "source": [
    "Load to make sure everything works fine"
   ]
  },
  {
   "cell_type": "code",
   "execution_count": 31,
   "id": "8e045548-ea48-4179-ad45-933ad34c8861",
   "metadata": {},
   "outputs": [],
   "source": [
    "difficulty_loaded = data_utils.load_difficulty()\n",
    "assert np.all(difficulty_loaded == difficulty)"
   ]
  },
  {
   "cell_type": "code",
   "execution_count": null,
   "id": "8896ebbf-7818-4d2b-a471-df6feb81f9ee",
   "metadata": {},
   "outputs": [],
   "source": []
  }
 ],
 "metadata": {
  "kernelspec": {
   "display_name": "Python 3 (ipykernel)",
   "language": "python",
   "name": "python3"
  },
  "language_info": {
   "codemirror_mode": {
    "name": "ipython",
    "version": 3
   },
   "file_extension": ".py",
   "mimetype": "text/x-python",
   "name": "python",
   "nbconvert_exporter": "python",
   "pygments_lexer": "ipython3",
   "version": "3.9.13"
  }
 },
 "nbformat": 4,
 "nbformat_minor": 5
}
