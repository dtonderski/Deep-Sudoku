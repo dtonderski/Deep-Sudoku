{
 "cells": [
  {
   "cell_type": "code",
   "execution_count": 1,
   "id": "913bd3fa-1695-42cd-a60f-2f8b8639fb75",
   "metadata": {},
   "outputs": [
    {
     "name": "stdout",
     "output_type": "stream",
     "text": [
      "\u001b[33mWARNING: Running pip as the 'root' user can result in broken permissions and conflicting behaviour with the system package manager. It is recommended to use a virtual environment instead: https://pip.pypa.io/warnings/venv\u001b[0m\u001b[33m\n",
      "\u001b[0m"
     ]
    }
   ],
   "source": [
    "!pip install --upgrade --quiet git+https://github.com/dtonderski/DeepSudoku"
   ]
  },
  {
   "cell_type": "code",
   "execution_count": 2,
   "id": "79ad42fe-90f1-4479-be03-7ca6c69ade98",
   "metadata": {
    "tags": []
   },
   "outputs": [
    {
     "name": "stdout",
     "output_type": "stream",
     "text": [
      "Name: deepsudoku\n",
      "Version: 0.8.4\n",
      "Summary: Solving Sudokus using a Neural Network assisted Monte-Carlo approach.\n",
      "Home-page: https://github.com/dtonderski/DeepSudoku\n",
      "Author: davton\n",
      "Author-email: dtonderski@gmail.com\n",
      "License: GNU GPLv3\n",
      "Location: /usr/local/lib/python3.9/dist-packages\n",
      "Requires: einops, numpy, py-sudoku, torch\n",
      "Required-by: \n"
     ]
    }
   ],
   "source": [
    "!pip show deepsudoku"
   ]
  },
  {
   "cell_type": "markdown",
   "id": "5b55378b-819e-4881-945c-961fd68bd9ae",
   "metadata": {},
   "source": [
    "### Difficulty re-determination for Sudoker\n",
    "We have now decided to use the Sudoker, so we can re-decide the difficulty. We have a pretty well-trained version, so let's approximate and calculate difficulty using it"
   ]
  },
  {
   "cell_type": "markdown",
   "id": "3df7a2be-3543-442f-a7a1-a6ecef691ce2",
   "metadata": {},
   "source": [
    "### Data"
   ]
  },
  {
   "cell_type": "code",
   "execution_count": 3,
   "id": "e749dcce-1873-4043-84c9-662e95a3cf25",
   "metadata": {},
   "outputs": [],
   "source": [
    "from deepsudoku.utils import data_utils"
   ]
  },
  {
   "cell_type": "code",
   "execution_count": 4,
   "id": "e6ff8720-7f50-4790-bdd4-4eaf4368ce1b",
   "metadata": {},
   "outputs": [],
   "source": [
    "train_sudokus_raw, val_sudokus_raw, test_sudokus_raw = data_utils.load_data()"
   ]
  },
  {
   "cell_type": "markdown",
   "id": "3d957a38-4016-4343-b0eb-3cff8d07de33",
   "metadata": {
    "tags": []
   },
   "source": [
    "### Network"
   ]
  },
  {
   "cell_type": "code",
   "execution_count": 5,
   "id": "c1dbb8a9-ca4a-40b8-896c-88fec1a71cc3",
   "metadata": {},
   "outputs": [],
   "source": [
    "from deepsudoku.nn import sudoker, loss\n",
    "import torch"
   ]
  },
  {
   "cell_type": "code",
   "execution_count": 6,
   "id": "b78a5007-d759-4dcc-9b70-297b8a841b70",
   "metadata": {},
   "outputs": [],
   "source": [
    "network = sudoker.Sudoker(12,192,3,768,0).cuda()"
   ]
  },
  {
   "cell_type": "code",
   "execution_count": 7,
   "id": "0b161b95-b3e3-4429-b307-17bfe8d8940b",
   "metadata": {},
   "outputs": [],
   "source": [
    "models = {\"ViTTiSudoker\": lambda: sudoker.Sudoker(12,192,3,768,0).cuda()}\n",
    "batch_sizes = {\"ViTTiSudoker\": 128}\n",
    "lrs = {\"ViTTiSudoker\": 1e-5}"
   ]
  },
  {
   "cell_type": "code",
   "execution_count": 13,
   "id": "de468c29-8b2a-4209-98de-4b47e0daecb9",
   "metadata": {},
   "outputs": [],
   "source": [
    "model_name = \"ViTTiSudoker\"\n",
    "network, batch_size = models[model_name](), batch_sizes[model_name]\n",
    "loss_fn = loss.loss"
   ]
  },
  {
   "cell_type": "code",
   "execution_count": 14,
   "id": "9cb363a0-4626-4130-9620-fee43f14bc9d",
   "metadata": {},
   "outputs": [
    {
     "data": {
      "text/plain": [
       "<All keys matched successfully>"
      ]
     },
     "execution_count": 14,
     "metadata": {},
     "output_type": "execute_result"
    }
   ],
   "source": [
    "model_path = f\"models/training/{model_name}\"\n",
    "\n",
    "checkpoint = torch.load(model_path)\n",
    "network.load_state_dict(checkpoint['model_state_dict'])"
   ]
  },
  {
   "cell_type": "markdown",
   "id": "d100b501-8bed-435f-8223-ee3717eba856",
   "metadata": {},
   "source": [
    "### Difficulty determination"
   ]
  },
  {
   "cell_type": "code",
   "execution_count": 15,
   "id": "f195eb3e-d5a3-45a9-afaa-8854c320635f",
   "metadata": {},
   "outputs": [],
   "source": [
    "from deepsudoku.utils import network_utils\n",
    "from collections import defaultdict\n",
    "from matplotlib import pyplot as plt\n",
    "import numpy as np"
   ]
  },
  {
   "cell_type": "code",
   "execution_count": 16,
   "id": "918442d3-55dc-47ec-8cde-6ed3138d368f",
   "metadata": {},
   "outputs": [],
   "source": [
    "difficulty_sudokus = data_utils.make_moves(train_sudokus_raw + val_sudokus_raw, n_moves_distribution=data_utils.uniform_possible_moves_distribution)"
   ]
  },
  {
   "cell_type": "code",
   "execution_count": 17,
   "id": "2bbd2e7f-fb2e-49a3-9350-9dcd7847f755",
   "metadata": {
    "tags": []
   },
   "outputs": [
    {
     "name": "stdout",
     "output_type": "stream",
     "text": [
      "5120/5222\r"
     ]
    }
   ],
   "source": [
    "loss_by_empty_cells = defaultdict(list)\n",
    "\n",
    "for batch_index in range(0, len(difficulty_sudokus), batch_size):\n",
    "    print(f\"{batch_index}/{len(difficulty_sudokus)}\", end = \"\\r\")\n",
    "    batch_sudokus = difficulty_sudokus[batch_index:batch_index+batch_size]\n",
    "\n",
    "    x_np, y_np = data_utils.generate_numpy_batch(batch_sudokus, augment = False)\n",
    "    x_difficulty, y_difficulty = network_utils.numpy_batch_to_pytorch(x_np, y_np, 'cuda')\n",
    "    y_pred_difficulty = network(x_difficulty)\n",
    "\n",
    "    for i in range(x_difficulty.shape[0]):\n",
    "        x      = x_difficulty[i:i+1]\n",
    "        y      = (y_difficulty[0][i:i+1],      y_difficulty[1][i:i+1])\n",
    "        y_pred = (y_pred_difficulty[0][i:i+1], y_pred_difficulty[1][i:i+1])\n",
    "\n",
    "        empty_cells = int((x == 0).sum().cpu())\n",
    "\n",
    "        loss, _ = loss_fn(x, y_pred, y)\n",
    "        loss_by_empty_cells[empty_cells].append(loss.detach().cpu().item())"
   ]
  },
  {
   "cell_type": "code",
   "execution_count": 18,
   "id": "0075c3c6-5238-45cd-94af-7fe2a5f36844",
   "metadata": {},
   "outputs": [],
   "source": [
    "loss_by_empty_cells_avgd = {k: sum(v)/len(v) for k, v in loss_by_empty_cells.items()}"
   ]
  },
  {
   "cell_type": "code",
   "execution_count": 19,
   "id": "3701892c-2f62-48f5-b7df-b341dd631f96",
   "metadata": {},
   "outputs": [
    {
     "data": {
      "image/png": "[encoded data removed]",
      "text/plain": [
       "<Figure size 432x288 with 1 Axes>"
      ]
     },
     "metadata": {
      "needs_background": "light"
     },
     "output_type": "display_data"
    }
   ],
   "source": [
    "plt.plot(loss_by_empty_cells_avgd.keys(), loss_by_empty_cells_avgd.values(), '.')\n",
    "plt.grid()\n",
    "plt.xlabel('Number of empty cells')\n",
    "plt.ylabel('p loss')\n",
    "plt.title('p loss as a function of the number of empty cells')\n",
    "plt.show()\n"
   ]
  },
  {
   "cell_type": "markdown",
   "id": "e2cdf8e9-a8a7-4dc0-8a40-6b2b1f298fbe",
   "metadata": {},
   "source": [
    "We don't have any data on how \"difficult\" a zero-empty-cells sudoku is, so extend by assuming it's the same as the one-empty-cell sudoku.\n"
   ]
  },
  {
   "cell_type": "code",
   "execution_count": 20,
   "id": "0a82fb5c-2ad2-46b6-9737-03fb81162541",
   "metadata": {},
   "outputs": [],
   "source": [
    "difficulty = [x[1] for x in sorted(loss_by_empty_cells_avgd.items())]\n",
    "difficulty = [difficulty[0]] + difficulty\n",
    "difficulty = [x / difficulty[-1] for x in difficulty]"
   ]
  },
  {
   "cell_type": "code",
   "execution_count": 21,
   "id": "1164cb51-b5f6-40ee-a558-69102d39ae74",
   "metadata": {},
   "outputs": [
    {
     "data": {
      "image/png": "[encoded data removed]",
      "text/plain": [
       "<Figure size 432x288 with 1 Axes>"
      ]
     },
     "metadata": {
      "needs_background": "light"
     },
     "output_type": "display_data"
    }
   ],
   "source": [
    "plt.plot(difficulty)\n",
    "plt.title(\"Normalized difficulty vs number of empty cells\")\n",
    "plt.xlabel('Number of empty cells')\n",
    "plt.ylabel('Normalized difficulty')\n",
    "plt.grid()\n",
    "plt.show()"
   ]
  },
  {
   "cell_type": "markdown",
   "id": "ebf25b21-83e0-47b4-9b62-5177cdaa99f8",
   "metadata": {},
   "source": [
    "Save the normalized and extended difficulty as a numpy array."
   ]
  },
  {
   "cell_type": "code",
   "execution_count": 22,
   "id": "adb1e1cf-fda2-4bfe-9c4d-dbb1d647412d",
   "metadata": {},
   "outputs": [],
   "source": [
    "data_utils.save_difficulty(difficulty)"
   ]
  },
  {
   "cell_type": "markdown",
   "id": "a6c32c06-2ed6-4b0c-8291-3fa17dc51a9e",
   "metadata": {},
   "source": [
    "Load to make sure everything works fine"
   ]
  },
  {
   "cell_type": "code",
   "execution_count": 23,
   "id": "1eaba348-f9c0-480a-b660-6e3ae593a212",
   "metadata": {},
   "outputs": [],
   "source": [
    "difficulty_loaded = data_utils.load_difficulty()\n",
    "assert np.all(difficulty_loaded == difficulty)"
   ]
  },
  {
   "cell_type": "markdown",
   "id": "8931746a-d478-47fe-befa-19613741883c",
   "metadata": {},
   "source": [
    "### Evaluate"
   ]
  },
  {
   "cell_type": "code",
   "execution_count": 24,
   "id": "b0ed755b-07a3-418f-a82b-5ad0a249a00b",
   "metadata": {},
   "outputs": [],
   "source": [
    "from deepsudoku.nn.evaluation import evaluate, get_averages, print_evaluation, categorical_accuracy, binary_accuracy\n",
    "from deepsudoku.montecarlo.simulation import get_n_simulations_function"
   ]
  },
  {
   "cell_type": "code",
   "execution_count": 25,
   "id": "9169d9ce-d294-4841-8037-a76fdcf8afaa",
   "metadata": {},
   "outputs": [],
   "source": [
    "val_sudokus = data_utils.make_moves(val_sudokus_raw, n_moves_distribution=data_utils.difficulty_uniform_combo_distribution)"
   ]
  },
  {
   "cell_type": "code",
   "execution_count": 26,
   "id": "9759cf25-fea4-4a7e-8a43-ce2f28ef0f74",
   "metadata": {},
   "outputs": [
    {
     "name": "stdout",
     "output_type": "stream",
     "text": [
      "1/1160, time = 2022-12-19 16:44:57.646742\n",
      "17/1160, time = 2022-12-19 16:45:10.718612\n",
      "33/1160, time = 2022-12-19 16:45:27.278156\n",
      "49/1160, time = 2022-12-19 16:45:48.471725\n",
      "65/1160, time = 2022-12-19 16:46:06.370592\n",
      "81/1160, time = 2022-12-19 16:46:20.559610\n",
      "97/1160, time = 2022-12-19 16:46:43.432129\n",
      "113/1160, time = 2022-12-19 16:46:55.486361\n",
      "129/1160, time = 2022-12-19 16:47:15.239477\n",
      "145/1160, time = 2022-12-19 16:47:37.212448\n",
      "161/1160, time = 2022-12-19 16:48:00.035684\n",
      "177/1160, time = 2022-12-19 16:48:18.570354\n",
      "193/1160, time = 2022-12-19 16:48:37.404355\n",
      "209/1160, time = 2022-12-19 16:48:55.030921\n",
      "225/1160, time = 2022-12-19 16:49:12.971445\n",
      "241/1160, time = 2022-12-19 16:49:32.649399\n",
      "257/1160, time = 2022-12-19 16:49:55.985497\n",
      "273/1160, time = 2022-12-19 16:50:17.143197\n",
      "289/1160, time = 2022-12-19 16:50:36.095205\n",
      "305/1160, time = 2022-12-19 16:50:53.813036\n",
      "321/1160, time = 2022-12-19 16:51:07.538081\n",
      "337/1160, time = 2022-12-19 16:51:29.082676\n",
      "353/1160, time = 2022-12-19 16:51:47.495675\n",
      "369/1160, time = 2022-12-19 16:51:59.554391\n",
      "385/1160, time = 2022-12-19 16:52:20.238421\n",
      "401/1160, time = 2022-12-19 16:52:34.637231\n",
      "417/1160, time = 2022-12-19 16:52:59.377728\n",
      "433/1160, time = 2022-12-19 16:53:20.155276\n",
      "449/1160, time = 2022-12-19 16:53:38.010549\n",
      "465/1160, time = 2022-12-19 16:53:54.254969\n",
      "481/1160, time = 2022-12-19 16:54:17.016883\n",
      "497/1160, time = 2022-12-19 16:54:33.392331\n",
      "513/1160, time = 2022-12-19 16:54:50.173416\n",
      "529/1160, time = 2022-12-19 16:55:07.385861\n",
      "545/1160, time = 2022-12-19 16:55:25.058632\n",
      "561/1160, time = 2022-12-19 16:55:44.594247\n",
      "577/1160, time = 2022-12-19 16:56:06.374639\n",
      "593/1160, time = 2022-12-19 16:56:27.983655\n",
      "609/1160, time = 2022-12-19 16:56:45.392853\n",
      "625/1160, time = 2022-12-19 16:57:02.438457\n",
      "641/1160, time = 2022-12-19 16:57:21.164431\n",
      "657/1160, time = 2022-12-19 16:57:41.310316\n",
      "673/1160, time = 2022-12-19 16:58:01.001743\n",
      "689/1160, time = 2022-12-19 16:58:15.453360\n",
      "705/1160, time = 2022-12-19 16:58:33.358943\n",
      "721/1160, time = 2022-12-19 16:58:51.408416\n",
      "737/1160, time = 2022-12-19 16:59:08.429226\n",
      "753/1160, time = 2022-12-19 16:59:25.376133\n",
      "769/1160, time = 2022-12-19 16:59:39.495143\n",
      "785/1160, time = 2022-12-19 16:59:55.568784\n",
      "801/1160, time = 2022-12-19 17:00:08.823149\n",
      "817/1160, time = 2022-12-19 17:00:28.764306\n",
      "833/1160, time = 2022-12-19 17:00:47.364184\n",
      "849/1160, time = 2022-12-19 17:01:08.815301\n",
      "865/1160, time = 2022-12-19 17:01:29.031641\n",
      "881/1160, time = 2022-12-19 17:01:55.034118\n",
      "897/1160, time = 2022-12-19 17:02:14.500426\n",
      "913/1160, time = 2022-12-19 17:02:31.649289\n",
      "929/1160, time = 2022-12-19 17:02:51.369901\n",
      "945/1160, time = 2022-12-19 17:03:03.070870\n",
      "961/1160, time = 2022-12-19 17:03:22.058042\n",
      "977/1160, time = 2022-12-19 17:03:41.109224\n",
      "993/1160, time = 2022-12-19 17:04:00.942306\n",
      "1009/1160, time = 2022-12-19 17:04:22.211855\n",
      "1025/1160, time = 2022-12-19 17:04:37.161614\n",
      "1041/1160, time = 2022-12-19 17:04:59.665803\n",
      "1057/1160, time = 2022-12-19 17:05:17.126408\n",
      "1073/1160, time = 2022-12-19 17:05:28.695820\n",
      "1089/1160, time = 2022-12-19 17:05:48.396459\n",
      "1105/1160, time = 2022-12-19 17:06:09.435159\n",
      "1121/1160, time = 2022-12-19 17:06:23.760977\n",
      "1137/1160, time = 2022-12-19 17:06:38.901421\n",
      "1153/1160, time = 2022-12-19 17:07:04.333242\n",
      "0 to 9 zeros: average moves before ending: 5.6, avg percentage completed: 100.0\n",
      "10 to 19 zeros: average moves before ending: 15.1, avg percentage completed: 100.0\n",
      "20 to 29 zeros: average moves before ending: 24.2, avg percentage completed: 100.0\n",
      "30 to 39 zeros: average moves before ending: 34.8, avg percentage completed: 100.0\n",
      "40 to 49 zeros: average moves before ending: 44.8, avg percentage completed: 100.0\n",
      "50 to 59 zeros: average moves before ending: 55.7, avg percentage completed: 99.1\n",
      "60 to 69 zeros: average moves before ending: 58.7, avg percentage completed: 94.6\n"
     ]
    }
   ],
   "source": [
    "n_simulations_function = get_n_simulations_function(1, 32)\n",
    "moves_before_failure_dict, percentage_completed_dict = evaluate(val_sudokus, network, n_simulations_function, \n",
    "                                                                n_played_sudokus = len(val_sudokus))\n",
    "\n",
    "avg_moves_dict, avg_percentage_dict = get_averages(moves_before_failure_dict, percentage_completed_dict)\n",
    "\n",
    "print_evaluation(avg_moves_dict, avg_percentage_dict)"
   ]
  },
  {
   "cell_type": "code",
   "execution_count": null,
   "id": "355d21af-1ef4-4b75-a924-35df05e6a33f",
   "metadata": {},
   "outputs": [],
   "source": []
  }
 ],
 "metadata": {
  "kernelspec": {
   "display_name": "Python 3 (ipykernel)",
   "language": "python",
   "name": "python3"
  },
  "language_info": {
   "codemirror_mode": {
    "name": "ipython",
    "version": 3
   },
   "file_extension": ".py",
   "mimetype": "text/x-python",
   "name": "python",
   "nbconvert_exporter": "python",
   "pygments_lexer": "ipython3",
   "version": "3.9.13"
  }
 },
 "nbformat": 4,
 "nbformat_minor": 5
}
