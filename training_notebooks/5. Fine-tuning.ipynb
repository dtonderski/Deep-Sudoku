{
 "cells": [
  {
   "cell_type": "code",
   "execution_count": 1,
   "id": "2f95df60-26e8-47d4-9378-66e647fe2b90",
   "metadata": {},
   "outputs": [
    {
     "name": "stdout",
     "output_type": "stream",
     "text": [
      "\u001B[33mWARNING: Running pip as the 'root' user can result in broken permissions and conflicting behaviour with the system package manager. It is recommended to use a virtual environment instead: https://pip.pypa.io/warnings/venv\u001B[0m\u001B[33m\n",
      "\u001B[0m"
     ]
    }
   ],
   "source": [
    "!pip install --upgrade --quiet git+https://github.com/dtonderski/DeepSudoku"
   ]
  },
  {
   "cell_type": "code",
   "execution_count": 2,
   "id": "18f33d6b-f847-4ce7-8c03-5bc8b1585110",
   "metadata": {
    "tags": []
   },
   "outputs": [
    {
     "name": "stdout",
     "output_type": "stream",
     "text": [
      "Name: deepsudoku\n",
      "Version: 0.8.4\n",
      "Summary: Solving Sudokus using a Neural Network assisted Monte-Carlo approach.\n",
      "Home-page: https://github.com/dtonderski/DeepSudoku\n",
      "Author: davton\n",
      "Author-email: dtonderski@gmail.com\n",
      "License: GNU GPLv3\n",
      "Location: /usr/local/lib/python3.9/dist-packages\n",
      "Requires: einops, numpy, py-sudoku, torch\n",
      "Required-by: \n"
     ]
    }
   ],
   "source": [
    "!pip show deepsudoku"
   ]
  },
  {
   "cell_type": "markdown",
   "id": "b15ce33f-14c3-453f-90ef-bbccbbb81fc0",
   "metadata": {},
   "source": [
    "### Fine-tuning Sudoker"
   ]
  },
  {
   "cell_type": "markdown",
   "id": "a573306a-38e0-4ee2-84b3-327454904e66",
   "metadata": {},
   "source": [
    "### Data"
   ]
  },
  {
   "cell_type": "code",
   "execution_count": 3,
   "id": "685e9136-2d59-4390-8d5b-932d60a357c3",
   "metadata": {},
   "outputs": [],
   "source": [
    "import deepsudoku as ds\n",
    "from deepsudoku.utils import data_utils\n",
    "import pickle as pkl\n",
    "import random\n",
    "import os"
   ]
  },
  {
   "cell_type": "code",
   "execution_count": 4,
   "id": "1a5f66de-b7ae-409a-b3b3-e78c693a3f78",
   "metadata": {},
   "outputs": [],
   "source": [
    "train_sudokus_raw, val_sudokus_raw, _ = data_utils.load_data()"
   ]
  },
  {
   "cell_type": "code",
   "execution_count": 5,
   "id": "e68702b1-566f-491c-8cdf-7ff6a1eacc7a",
   "metadata": {},
   "outputs": [],
   "source": [
    "val_sudokus = data_utils.make_moves(val_sudokus_raw, n_moves_distribution=data_utils.difficulty_uniform_combo_distribution)"
   ]
  },
  {
   "cell_type": "code",
   "execution_count": 6,
   "id": "88f1161f-0e05-4896-b590-830da5c2113d",
   "metadata": {},
   "outputs": [
    {
     "name": "stdout",
     "output_type": "stream",
     "text": [
      "Loading from models/finetuning/previous_data.pkl\n",
      "len(previous_data)=24\n"
     ]
    }
   ],
   "source": [
    "old_previous_data_path = '../models/initial/previous_data.pkl'\n",
    "with open(old_previous_data_path, 'rb') as f:\n",
    "    previous_data = pkl.load(f)\n",
    "    \n",
    "previous_data_path = '../models/finetuning/previous_data.pkl'\n",
    "if os.path.exists(previous_data_path):\n",
    "    print(f\"Loading from {previous_data_path}\")\n",
    "    with open(previous_data_path, 'rb') as f:\n",
    "        previous_data = pkl.load(f)\n",
    "print(f\"{len(previous_data)=}\")"
   ]
  },
  {
   "cell_type": "markdown",
   "id": "d693b85f-cb09-4fb4-ba71-63fe09a8c4f7",
   "metadata": {
    "tags": []
   },
   "source": [
    "### Network"
   ]
  },
  {
   "cell_type": "code",
   "execution_count": 7,
   "id": "8151cb6b-7a3c-4966-b980-27383d4111a0",
   "metadata": {},
   "outputs": [],
   "source": [
    "from deepsudoku.dsnn.training import generate_training_data\n",
    "from deepsudoku.dsnn import sudoker, loss\n",
    "import torch\n",
    "import os"
   ]
  },
  {
   "cell_type": "code",
   "execution_count": 9,
   "id": "ffcdcb1e-8c12-4b8c-906b-a59f7e9e9a3b",
   "metadata": {},
   "outputs": [],
   "source": [
    "models = {\"ViTTiSudoker\": lambda: sudoker.Sudoker(12,192,3,768,0).cuda()}\n",
    "batch_sizes = {\"ViTTiSudoker\": 512}\n",
    "lrs = {\"ViTTiSudoker\": 1e-5}"
   ]
  },
  {
   "cell_type": "code",
   "execution_count": 10,
   "id": "687f0d53-4ca1-415f-ab1c-0ed88c5b4f80",
   "metadata": {},
   "outputs": [],
   "source": [
    "model_name = \"ViTTiSudoker\"\n",
    "network, batch_size = models[model_name](), batch_sizes[model_name]\n",
    "optimizer = torch.optim.Adam(network.parameters())\n",
    "loss_fn = loss.loss"
   ]
  },
  {
   "cell_type": "code",
   "execution_count": 11,
   "id": "e742167e-705e-4a25-87c2-33a782b66b6a",
   "metadata": {},
   "outputs": [
    {
     "data": {
      "text/plain": [
       "<All keys matched successfully>"
      ]
     },
     "execution_count": 11,
     "metadata": {},
     "output_type": "execute_result"
    }
   ],
   "source": [
    "old_model_path = f\"../models/training/{model_name}\"\n",
    "\n",
    "checkpoint = torch.load(old_model_path)\n",
    "network.load_state_dict(checkpoint['model_state_dict'])"
   ]
  },
  {
   "cell_type": "code",
   "execution_count": 12,
   "id": "8db65021-1896-4d0d-bf7e-66654f175994",
   "metadata": {},
   "outputs": [
    {
     "name": "stdout",
     "output_type": "stream",
     "text": [
      "Loading model\n",
      "starting_epoch=100\n"
     ]
    }
   ],
   "source": [
    "best_model_path = f'../models/finetuning/best.pth'\n",
    "if os.path.exists(best_model_path):\n",
    "    print(\"Loading model\")\n",
    "    checkpoint = torch.load(best_model_path)\n",
    "    network.load_state_dict(checkpoint['model_state_dict'])\n",
    "    optimizer.load_state_dict(checkpoint['optimizer_state_dict'])\n",
    "    losses = checkpoint['losses']\n",
    "    cat_accs = checkpoint['cat_accs']\n",
    "    bin_accs = checkpoint['bin_accs']\n",
    "    min_percentages = checkpoint['min_percentages']\n",
    "else:\n",
    "    losses = []\n",
    "    cat_accs = []\n",
    "    bin_accs = []\n",
    "    min_percentages = []\n",
    "    \n",
    "starting_epoch = len(losses)\n",
    "best_percentage = 0 if len(min_percentages) == 0 else min_percentages[-1]\n",
    "print(f\"{starting_epoch=}\")"
   ]
  },
  {
   "cell_type": "markdown",
   "id": "a6a6ecb6-f434-4862-8ba5-4cc650423644",
   "metadata": {},
   "source": [
    "### Training"
   ]
  },
  {
   "cell_type": "code",
   "execution_count": 13,
   "id": "f05eb074-b396-472c-ae73-f039c12601e9",
   "metadata": {},
   "outputs": [],
   "source": [
    "from deepsudoku.dsnn.evaluation import evaluate, get_averages, print_evaluation, categorical_accuracy, binary_accuracy\n",
    "from deepsudoku.utils import network_utils\n",
    "from deepsudoku.montecarlo.simulation import get_n_simulations_function\n",
    "from datetime import datetime"
   ]
  },
  {
   "cell_type": "code",
   "execution_count": 14,
   "id": "84ef46a2-3676-42ae-996d-04bcafd4d0a2",
   "metadata": {},
   "outputs": [],
   "source": [
    "epochs = 1000\n",
    "# Do 128 to get more training data\n",
    "n_simulations_function = get_n_simulations_function(1, 128, use_builtin_difficulty=False)\n",
    "valid_n_simulations_function = get_n_simulations_function(1, 16, use_builtin_difficulty=False)\n",
    "\n",
    "min_data_size = 16384\n",
    "sudokus_to_evaluate = 128\n",
    "generate_and_evaluate_every_n_epochs = 10"
   ]
  },
  {
   "cell_type": "code",
   "execution_count": null,
   "id": "89ab732c-f472-484c-96f3-a39d4fa8c3c9",
   "metadata": {},
   "outputs": [
    {
     "name": "stdout",
     "output_type": "stream",
     "text": [
      "len(current_train_sudokus)=397284, current_fraction=0.6933125925030961.\n",
      "Epoch 100, loss = 0.0575, cat_acc = 0.9893, bin_acc = 0.9899, time = 2022-12-26 06:54:08.140689.                                       \n",
      "Epoch 101, loss = 0.0398, cat_acc = 0.9931, bin_acc = 0.9923, time = 2022-12-26 07:03:03.591982.                                       \n",
      "Epoch 102, loss = 0.0364, cat_acc = 0.9939, bin_acc = 0.9926, time = 2022-12-26 07:11:59.908073.                                       \n",
      "Epoch 103, loss = 0.0337, cat_acc = 0.9944, bin_acc = 0.9931, time = 2022-12-26 07:20:56.183865.                                       \n",
      "Epoch 104, loss = 0.0320, cat_acc = 0.9947, bin_acc = 0.9935, time = 2022-12-26 07:29:50.236617.                                       \n",
      "Epoch 105, loss = 0.0317, cat_acc = 0.9948, bin_acc = 0.9934, time = 2022-12-26 07:38:44.157147.                                       \n",
      "Epoch 106, loss = 0.0309, cat_acc = 0.9949, bin_acc = 0.9935, time = 2022-12-26 07:47:39.700471.                                       \n",
      "Epoch 107, loss = 0.0299, cat_acc = 0.9951, bin_acc = 0.9938, time = 2022-12-26 07:56:37.571239.                                       \n",
      "Epoch 108, loss = 0.0295, cat_acc = 0.9953, bin_acc = 0.9938, time = 2022-12-26 08:05:32.679771.                                       \n",
      "Epoch 109, loss = 0.0287, cat_acc = 0.9955, bin_acc = 0.9938, time = 2022-12-26 08:14:26.842349.                                       \n",
      "1/128, time = 2022-12-26 08:14:26.843310\n",
      "17/128, time = 2022-12-26 08:14:43.218995\n",
      "33/128, time = 2022-12-26 08:15:02.223987\n",
      "49/128, time = 2022-12-26 08:15:17.765702\n",
      "65/128, time = 2022-12-26 08:15:39.577690\n",
      "81/128, time = 2022-12-26 08:15:59.479672\n",
      "97/128, time = 2022-12-26 08:16:19.945526\n",
      "113/128, time = 2022-12-26 08:16:39.965807\n",
      "0 to 9 zeros: average moves before ending: 4.6, avg percentage completed: 100.0\n",
      "10 to 19 zeros: average moves before ending: 13.8, avg percentage completed: 100.0\n",
      "20 to 29 zeros: average moves before ending: 26.0, avg percentage completed: 100.0\n",
      "30 to 39 zeros: average moves before ending: 35.5, avg percentage completed: 100.0\n",
      "40 to 49 zeros: average moves before ending: 44.9, avg percentage completed: 100.0\n",
      "50 to 59 zeros: average moves before ending: 56.2, avg percentage completed: 100.0\n",
      "60 to 69 zeros: average moves before ending: 59.6, avg percentage completed: 96.2\n",
      "Sampled 0/16384 sudokus, time = 2022-12-26 08:17:01.304701\n",
      "Sampled 2133/16384 sudokus, time = 2022-12-26 08:35:40.179935\n",
      "Sampled 4097/16384 sudokus, time = 2022-12-26 08:49:02.730933\n",
      "Sampled 6441/16384 sudokus, time = 2022-12-26 08:56:45.619165\n",
      "Sampled 8228/16384 sudokus, time = 2022-12-26 09:12:21.122929\n",
      "Sampled 10300/16384 sudokus, time = 2022-12-26 09:25:12.112722\n",
      "Sampled 12724/16384 sudokus, time = 2022-12-26 09:45:11.143239\n",
      "Sampled 14606/16384 sudokus, time = 2022-12-26 10:01:48.497341\n",
      "Sampled 16753/16384 sudokus, time = 2022-12-26 10:25:03.548501\n",
      "Valids fraction: 0.89, sampled from 50 sudokus\n",
      "Min percentage increased from 0.9100562036341499 to 0.961768219832736! Saving network\n",
      "len(current_train_sudokus)=414037, current_fraction=0.7012102783084604.\n",
      "Epoch 110, loss = 0.0562, cat_acc = 0.9901, bin_acc = 0.9888, time = 2022-12-26 10:34:25.906813.                                       \n",
      "Epoch 111, loss = 0.0402, cat_acc = 0.9935, bin_acc = 0.9914, time = 2022-12-26 10:43:44.421610.                                       \n",
      "Epoch 112, loss = 0.0360, cat_acc = 0.9942, bin_acc = 0.9924, time = 2022-12-26 10:53:01.564718.                                       \n",
      "Epoch 113, loss = 0.0339, cat_acc = 0.9946, bin_acc = 0.9929, time = 2022-12-26 11:02:19.036461.                                       \n",
      "Epoch 114, loss = 0.0326, cat_acc = 0.9948, bin_acc = 0.9932, time = 2022-12-26 11:11:36.263548.                                       \n",
      "Epoch 115, loss = 0.0310, cat_acc = 0.9951, bin_acc = 0.9934, time = 2022-12-26 11:20:52.928026.                                       \n",
      "Epoch 116, loss = 0.0302, cat_acc = 0.9952, bin_acc = 0.9935, time = 2022-12-26 11:30:11.112518.                                       \n",
      "Epoch 117, loss = 0.0298, cat_acc = 0.9954, bin_acc = 0.9935, time = 2022-12-26 11:39:30.162465.                                       \n",
      "Epoch 118, loss = 0.0285, cat_acc = 0.9955, bin_acc = 0.9940, time = 2022-12-26 11:48:48.774692.                                       \n",
      "Epoch 119, loss = 0.0285, cat_acc = 0.9955, bin_acc = 0.9940, time = 2022-12-26 11:58:05.527373.                                       \n",
      "1/128, time = 2022-12-26 11:58:05.528688\n",
      "17/128, time = 2022-12-26 11:58:21.669969\n",
      "33/128, time = 2022-12-26 11:58:40.154510\n",
      "49/128, time = 2022-12-26 11:58:57.373452\n",
      "65/128, time = 2022-12-26 11:59:16.819302\n",
      "81/128, time = 2022-12-26 11:59:36.523967\n",
      "97/128, time = 2022-12-26 11:59:54.431035\n",
      "113/128, time = 2022-12-26 12:00:11.726088\n",
      "0 to 9 zeros: average moves before ending: 4.6, avg percentage completed: 100.0\n",
      "10 to 19 zeros: average moves before ending: 13.8, avg percentage completed: 100.0\n",
      "20 to 29 zeros: average moves before ending: 26.0, avg percentage completed: 100.0\n",
      "30 to 39 zeros: average moves before ending: 35.5, avg percentage completed: 100.0\n",
      "40 to 49 zeros: average moves before ending: 44.9, avg percentage completed: 100.0\n",
      "50 to 59 zeros: average moves before ending: 56.2, avg percentage completed: 100.0\n",
      "60 to 69 zeros: average moves before ending: 57.4, avg percentage completed: 92.7\n",
      "Sampled 0/16384 sudokus, time = 2022-12-26 12:00:33.198858\n",
      "Sampled 2125/16384 sudokus, time = 2022-12-26 12:10:24.997136\n"
     ]
    }
   ],
   "source": [
    "train = True\n",
    "\n",
    "if train:\n",
    "    for epoch in range(starting_epoch, epochs):\n",
    "        if epoch % generate_and_evaluate_every_n_epochs == 0:\n",
    "            network.eval()\n",
    "            if epoch > starting_epoch:\n",
    "                moves_before_failure_dict, percentage_completed_dict = evaluate(val_sudokus, network, valid_n_simulations_function, \n",
    "                                                                                n_played_sudokus = sudokus_to_evaluate)\n",
    "\n",
    "                avg_moves_dict, avg_percentage_dict = get_averages(moves_before_failure_dict, percentage_completed_dict)\n",
    "\n",
    "                print_evaluation(avg_moves_dict, avg_percentage_dict)\n",
    "\n",
    "                current_min_average_percentage_before_failure = min(avg_percentage_dict.values())\n",
    "                min_percentages.append(current_min_average_percentage_before_failure)\n",
    "\n",
    "                train_sudokus = data_utils.make_moves(train_sudokus_raw, n_moves_distribution=data_utils.difficulty_uniform_combo_distribution)\n",
    "                generated_train_sudokus = generate_training_data(train_sudokus, network, n_simulations_function, verbose = 1, min_data_size = min_data_size)\n",
    "\n",
    "                previous_data.append(generated_train_sudokus)\n",
    "\n",
    "                with open(previous_data_path, 'wb') as f:\n",
    "                    pkl.dump(previous_data, f)\n",
    "                    \n",
    "                if current_min_average_percentage_before_failure > best_percentage:\n",
    "                    print(f\"Min percentage increased from {best_percentage} to \"\n",
    "                          f\"{current_min_average_percentage_before_failure}! Saving network\")\n",
    "                    best_percentage = current_min_average_percentage_before_failure\n",
    "                    torch.save({\n",
    "                        'model_state_dict': network.state_dict(),\n",
    "                        'optimizer_state_dict': optimizer.state_dict(),\n",
    "                        'cat_accs': cat_accs,\n",
    "                        'bin_accs': bin_accs,\n",
    "                        'losses': losses,\n",
    "                        'min_percentages': min_percentages\n",
    "                        }, f'{best_model_path}')\n",
    "            \n",
    "            current_train_sudokus = [sudoku for simulation_sudokus in previous_data for sudoku in simulation_sudokus]\n",
    "            current_fraction = sum([x[2] for x in current_train_sudokus])/len([x[2] for x in current_train_sudokus])\n",
    "            print(f\"{len(current_train_sudokus)=}, {current_fraction=}.\")\n",
    "            \n",
    "            network.train()\n",
    "            \n",
    "\n",
    "            \n",
    "        random.shuffle(current_train_sudokus)\n",
    "        batch_losses, batch_cat_accs, batch_cat_accs_weights, batch_bin_accs = [], [], [], []\n",
    "        \n",
    "        for i in range(0, len(current_train_sudokus), batch_size):\n",
    "            batch_sudokus = current_train_sudokus[i:i+batch_size]\n",
    "\n",
    "            x_np, y_np = data_utils.generate_numpy_batch(batch_sudokus, augment = True)\n",
    "            x, y = network_utils.numpy_batch_to_pytorch(x_np, y_np, 'cuda')\n",
    "            y_pred = network(x)\n",
    "            \n",
    "            binary_cross_entropy_weights = loss.get_binary_cross_entropy_weights(y[1])\n",
    "\n",
    "            batch_p_loss, batch_v_loss = loss_fn(x, y_pred, y, binary_cross_entropy_weights=binary_cross_entropy_weights)    \n",
    "            batch_loss = batch_v_loss + batch_p_loss\n",
    "\n",
    "            batch_cat_acc = categorical_accuracy(x, y, y_pred)\n",
    "            \n",
    "            # Weight is number of valid sudokus\n",
    "            batch_cat_accs_weights.append(y[1].sum())\n",
    "            \n",
    "            batch_bin_acc = binary_accuracy(y, y_pred)\n",
    "\n",
    "            batch_losses.append(batch_loss.item())\n",
    "            batch_cat_accs.append(batch_cat_acc)\n",
    "            batch_bin_accs.append(batch_bin_acc)\n",
    "\n",
    "            optimizer.zero_grad()\n",
    "            batch_loss.backward()\n",
    "            torch.nn.utils.clip_grad_norm_(network.parameters(), 1)\n",
    "            optimizer.step()\n",
    "\n",
    "            print(f\"Epoch {epoch}, batch {min(i+batch_size, len(current_train_sudokus))}/{len(current_train_sudokus)},\" \n",
    "                  f\"{batch_p_loss.item()=:.4f}, {batch_v_loss.item()=:.4f}, {batch_cat_acc=:.4f}, {batch_bin_acc=:.4f}\", end = \"\\r\")\n",
    "\n",
    "        losses.append(sum(batch_losses)/len(batch_losses))\n",
    "        batch_cat_accs_weights = [x/sum(batch_cat_accs_weights) for x in batch_cat_accs_weights]\n",
    "        # Weighted average over cat_accs\n",
    "        cat_accs.append(sum([x*y for x,y in zip(batch_cat_accs, batch_cat_accs_weights)]))\n",
    "        bin_accs.append(sum(batch_bin_accs)/len(batch_bin_accs))\n",
    "\n",
    "        print(f'Epoch {epoch}, loss = {losses[-1]:.4f}, cat_acc = {cat_accs[-1]:.4f}, bin_acc = {bin_accs[-1]:.4f}, time = {datetime.now()}.                                       ')"
   ]
  },
  {
   "cell_type": "code",
   "execution_count": null,
   "id": "9ee3115f-2fcb-4336-b1e1-58c776b766ab",
   "metadata": {},
   "outputs": [],
   "source": []
  }
 ],
 "metadata": {
  "kernelspec": {
   "display_name": "Python 3 (ipykernel)",
   "language": "python",
   "name": "python3"
  },
  "language_info": {
   "codemirror_mode": {
    "name": "ipython",
    "version": 3
   },
   "file_extension": ".py",
   "mimetype": "text/x-python",
   "name": "python",
   "nbconvert_exporter": "python",
   "pygments_lexer": "ipython3",
   "version": "3.9.13"
  }
 },
 "nbformat": 4,
 "nbformat_minor": 5
}
