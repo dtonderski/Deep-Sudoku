{
 "cells": [
  {
   "cell_type": "code",
   "execution_count": 119,
   "metadata": {},
   "outputs": [],
   "source": [
    "import numpy as np\n",
    "import torch\n",
    "from sudoku import Sudoku\n",
    "from matplotlib import pyplot as plt\n",
    "from deep_sudoku.utils import sudoku_utils, data_utils"
   ]
  },
  {
   "cell_type": "code",
   "execution_count": 120,
   "metadata": {},
   "outputs": [],
   "source": [
    "data_utils.split_data()\n",
    "train_sudokus, val_sudokus, test_sudokus = data_utils.load_data()"
   ]
  },
  {
   "cell_type": "code",
   "execution_count": 121,
   "metadata": {},
   "outputs": [],
   "source": [
    "def all_but_one_distribution():\n",
    "    possible_numbers_of_moves_to_make = list(range(0,64))\n",
    "    probabilities = [0]*64\n",
    "    probabilities[63] = 1\n",
    "    return possible_numbers_of_moves_to_make, probabilities\n",
    "\n",
    "def n_moves_distribution(n):\n",
    "    possible_numbers_of_moves_to_make = list(range(0,64))\n",
    "    probabilities = [0]*64\n",
    "    probabilities[n-1] = 1\n",
    "    return possible_numbers_of_moves_to_make, probabilities\n",
    "\n",
    "train_sudokus = data_utils.make_moves(train_sudokus, data_utils.uniform_possible_moves_distribution)\n",
    "val_sudokus = data_utils.make_moves(val_sudokus, data_utils.uniform_possible_moves_distribution)\n",
    "test_sudokus = data_utils.make_moves(test_sudokus, data_utils.uniform_possible_moves_distribution)\n"
   ]
  },
  {
   "cell_type": "code",
   "execution_count": 122,
   "metadata": {},
   "outputs": [],
   "source": [
    "board = train_sudokus[0][0]\n",
    "solved = train_sudokus[0][1]\n",
    "rng = np.random.default_rng()"
   ]
  },
  {
   "cell_type": "code",
   "execution_count": 123,
   "metadata": {},
   "outputs": [],
   "source": [
    "totals = np.zeros(65)\n",
    "for sudoku in train_sudokus:\n",
    "    totals[len(np.argwhere(sudoku[0]==0))] +=1\n"
   ]
  },
  {
   "cell_type": "code",
   "execution_count": 124,
   "metadata": {},
   "outputs": [
    {
     "data": {
      "text/plain": [
       "[<matplotlib.lines.Line2D at 0x2040ec58df0>]"
      ]
     },
     "execution_count": 124,
     "metadata": {},
     "output_type": "execute_result"
    },
    {
     "data": {
      "image/png": "[encoded data removed]",
      "text/plain": [
       "<Figure size 432x288 with 1 Axes>"
      ]
     },
     "metadata": {
      "needs_background": "light"
     },
     "output_type": "display_data"
    }
   ],
   "source": [
    "plt.plot(totals)"
   ]
  },
  {
   "cell_type": "code",
   "execution_count": 125,
   "metadata": {},
   "outputs": [],
   "source": [
    "import torch\n",
    "import torch.nn as nn\n",
    "import torch.nn.functional as F\n",
    "\n",
    "class simpleNet(nn.Module):\n",
    "    def __init__(self):\n",
    "        super(simpleNet, self).__init__()\n",
    "        self.conv0 = nn.Conv2d(in_channels = 1, out_channels = 64, kernel_size = 3, stride = 1, padding = 1)\n",
    "        \n",
    "        self.convs = []\n",
    "        for i in range(8):\n",
    "            self.convs.append(nn.Conv2d(in_channels = 64, out_channels = 64, kernel_size = 3, stride = 1, padding = 1))\n",
    "        self.convs = nn.ModuleList(self.convs)\n",
    "        \n",
    "        self.convlast = nn.Conv2d(in_channels = 64, out_channels = 9, kernel_size = 3, stride = 1, padding = 1)\n",
    "    \n",
    "    def forward(self, x):   \n",
    "        x = self.conv0(x)\n",
    "        x = nn.ReLU()(x)\n",
    "        for conv in self.convs:\n",
    "            x = conv(x)\n",
    "            x = nn.ReLU()(x)\n",
    "        x = self.convlast(x)\n",
    "        return x\n",
    "        \n",
    "    "
   ]
  },
  {
   "cell_type": "code",
   "execution_count": 126,
   "metadata": {},
   "outputs": [],
   "source": [
    "x_train, y_train = data_utils.fast_generate_batch(train_sudokus)\n",
    "x_train = torch.tensor(x_train.reshape(-1,1,9,9).astype('float32'))\n",
    "y_train = torch.tensor(y_train - 1).type(torch.LongTensor)"
   ]
  },
  {
   "cell_type": "code",
   "execution_count": 127,
   "metadata": {},
   "outputs": [],
   "source": [
    "x_train, y_train = data_utils.generate_batch(train_sudokus)\n",
    "x_train = torch.tensor(x_train.reshape(-1,1,9,9).astype('float32'))\n",
    "y_train = torch.tensor(y_train - 1).type(torch.LongTensor)"
   ]
  },
  {
   "cell_type": "code",
   "execution_count": 128,
   "metadata": {},
   "outputs": [],
   "source": [
    "x_val, y_val = data_utils.generate_batch(val_sudokus, augment = False)\n",
    "x_val = torch.tensor(x_val.reshape(-1,1,9,9).astype('float32')).cuda()\n",
    "y_val = torch.tensor(y_val - 1).type(torch.LongTensor).cuda()"
   ]
  },
  {
   "cell_type": "code",
   "execution_count": 129,
   "metadata": {},
   "outputs": [
    {
     "name": "stdout",
     "output_type": "stream",
     "text": [
      "Epoch 84254, loss = 0.2703, validation loss = 0.2927.\r"
     ]
    },
    {
     "ename": "KeyboardInterrupt",
     "evalue": "",
     "output_type": "error",
     "traceback": [
      "\u001b[1;31m---------------------------------------------------------------------------\u001b[0m",
      "\u001b[1;31mKeyboardInterrupt\u001b[0m                         Traceback (most recent call last)",
      "\u001b[1;32m<ipython-input-129-20c4e7717ded>\u001b[0m in \u001b[0;36m<module>\u001b[1;34m\u001b[0m\n\u001b[0;32m     40\u001b[0m     \u001b[0mloss\u001b[0m\u001b[1;33m.\u001b[0m\u001b[0mbackward\u001b[0m\u001b[1;33m(\u001b[0m\u001b[1;33m)\u001b[0m\u001b[1;33m\u001b[0m\u001b[1;33m\u001b[0m\u001b[0m\n\u001b[0;32m     41\u001b[0m \u001b[1;33m\u001b[0m\u001b[0m\n\u001b[1;32m---> 42\u001b[1;33m     \u001b[0mtorch\u001b[0m\u001b[1;33m.\u001b[0m\u001b[0mnn\u001b[0m\u001b[1;33m.\u001b[0m\u001b[0mutils\u001b[0m\u001b[1;33m.\u001b[0m\u001b[0mclip_grad_norm_\u001b[0m\u001b[1;33m(\u001b[0m\u001b[0mmodel\u001b[0m\u001b[1;33m.\u001b[0m\u001b[0mparameters\u001b[0m\u001b[1;33m(\u001b[0m\u001b[1;33m)\u001b[0m\u001b[1;33m,\u001b[0m \u001b[1;36m1\u001b[0m\u001b[1;33m)\u001b[0m\u001b[1;33m\u001b[0m\u001b[1;33m\u001b[0m\u001b[0m\n\u001b[0m\u001b[0;32m     43\u001b[0m     \u001b[0moptimizer\u001b[0m\u001b[1;33m.\u001b[0m\u001b[0mstep\u001b[0m\u001b[1;33m(\u001b[0m\u001b[1;33m)\u001b[0m\u001b[1;33m\u001b[0m\u001b[1;33m\u001b[0m\u001b[0m\n\u001b[0;32m     44\u001b[0m \u001b[1;33m\u001b[0m\u001b[0m\n",
      "\u001b[1;32mc:\\users\\katane\\appdata\\local\\programs\\python\\python38\\lib\\site-packages\\torch\\nn\\utils\\clip_grad.py\u001b[0m in \u001b[0;36mclip_grad_norm_\u001b[1;34m(parameters, max_norm, norm_type)\u001b[0m\n\u001b[0;32m     36\u001b[0m         \u001b[0mtotal_norm\u001b[0m \u001b[1;33m=\u001b[0m \u001b[0mtorch\u001b[0m\u001b[1;33m.\u001b[0m\u001b[0mnorm\u001b[0m\u001b[1;33m(\u001b[0m\u001b[0mtorch\u001b[0m\u001b[1;33m.\u001b[0m\u001b[0mstack\u001b[0m\u001b[1;33m(\u001b[0m\u001b[1;33m[\u001b[0m\u001b[0mtorch\u001b[0m\u001b[1;33m.\u001b[0m\u001b[0mnorm\u001b[0m\u001b[1;33m(\u001b[0m\u001b[0mp\u001b[0m\u001b[1;33m.\u001b[0m\u001b[0mgrad\u001b[0m\u001b[1;33m.\u001b[0m\u001b[0mdetach\u001b[0m\u001b[1;33m(\u001b[0m\u001b[1;33m)\u001b[0m\u001b[1;33m,\u001b[0m \u001b[0mnorm_type\u001b[0m\u001b[1;33m)\u001b[0m\u001b[1;33m.\u001b[0m\u001b[0mto\u001b[0m\u001b[1;33m(\u001b[0m\u001b[0mdevice\u001b[0m\u001b[1;33m)\u001b[0m \u001b[1;32mfor\u001b[0m \u001b[0mp\u001b[0m \u001b[1;32min\u001b[0m \u001b[0mparameters\u001b[0m\u001b[1;33m]\u001b[0m\u001b[1;33m)\u001b[0m\u001b[1;33m,\u001b[0m \u001b[0mnorm_type\u001b[0m\u001b[1;33m)\u001b[0m\u001b[1;33m\u001b[0m\u001b[1;33m\u001b[0m\u001b[0m\n\u001b[0;32m     37\u001b[0m     \u001b[0mclip_coef\u001b[0m \u001b[1;33m=\u001b[0m \u001b[0mmax_norm\u001b[0m \u001b[1;33m/\u001b[0m \u001b[1;33m(\u001b[0m\u001b[0mtotal_norm\u001b[0m \u001b[1;33m+\u001b[0m \u001b[1;36m1e-6\u001b[0m\u001b[1;33m)\u001b[0m\u001b[1;33m\u001b[0m\u001b[1;33m\u001b[0m\u001b[0m\n\u001b[1;32m---> 38\u001b[1;33m     \u001b[1;32mif\u001b[0m \u001b[0mclip_coef\u001b[0m \u001b[1;33m<\u001b[0m \u001b[1;36m1\u001b[0m\u001b[1;33m:\u001b[0m\u001b[1;33m\u001b[0m\u001b[1;33m\u001b[0m\u001b[0m\n\u001b[0m\u001b[0;32m     39\u001b[0m         \u001b[1;32mfor\u001b[0m \u001b[0mp\u001b[0m \u001b[1;32min\u001b[0m \u001b[0mparameters\u001b[0m\u001b[1;33m:\u001b[0m\u001b[1;33m\u001b[0m\u001b[1;33m\u001b[0m\u001b[0m\n\u001b[0;32m     40\u001b[0m             \u001b[0mp\u001b[0m\u001b[1;33m.\u001b[0m\u001b[0mgrad\u001b[0m\u001b[1;33m.\u001b[0m\u001b[0mdetach\u001b[0m\u001b[1;33m(\u001b[0m\u001b[1;33m)\u001b[0m\u001b[1;33m.\u001b[0m\u001b[0mmul_\u001b[0m\u001b[1;33m(\u001b[0m\u001b[0mclip_coef\u001b[0m\u001b[1;33m.\u001b[0m\u001b[0mto\u001b[0m\u001b[1;33m(\u001b[0m\u001b[0mp\u001b[0m\u001b[1;33m.\u001b[0m\u001b[0mgrad\u001b[0m\u001b[1;33m.\u001b[0m\u001b[0mdevice\u001b[0m\u001b[1;33m)\u001b[0m\u001b[1;33m)\u001b[0m\u001b[1;33m\u001b[0m\u001b[1;33m\u001b[0m\u001b[0m\n",
      "\u001b[1;31mKeyboardInterrupt\u001b[0m: "
     ]
    }
   ],
   "source": [
    "from time import time\n",
    "model = simpleNet()\n",
    "model.to('cuda')\n",
    "optimizer = torch.optim.Adam(model.parameters(), amsgrad = True)\n",
    "loss_fn = torch.nn.CrossEntropyLoss()\n",
    "\n",
    "val_losses = []\n",
    "losses = []\n",
    "\n",
    "min_val_loss = 100\n",
    "n_epochs = 100000\n",
    "# # load the model checkpoint\n",
    "# checkpoint = torch.load('./documentation/models/2/model.pth')\n",
    "# # load model weights state_dict\n",
    "# model.load_state_dict(checkpoint['model_state_dict'])\n",
    "# print('Previously trained model weights state_dict loaded...')\n",
    "# # load trained optimizer state_dict\n",
    "# optimizer.load_state_dict(checkpoint['optimizer_state_dict'])\n",
    "# print('Previously trained optimizer state_dict loaded...')\n",
    "# start_epoch = checkpoint['epoch']\n",
    "# # load the criterion\n",
    "# loss = checkpoint['loss']\n",
    "# print('Trained model loss function loaded...')\n",
    "# min_val_loss = loss\n",
    "\n",
    "for epoch in range(0, n_epochs):\n",
    "    model.train()\n",
    "    x_train, y_train = data_utils.fast_generate_batch(train_sudokus)\n",
    "    x_train = torch.tensor(x_train.reshape(-1,1,9,9).astype('float32'))\n",
    "    y_train = torch.tensor(y_train - 1).type(torch.LongTensor)\n",
    "    x_train = x_train.cuda()\n",
    "    y_train = y_train.cuda()\n",
    "    \n",
    "    y_pred = model(x_train)\n",
    "    y_pred = y_pred.cuda()\n",
    "    \n",
    "    loss = loss_fn(y_pred, y_train)\n",
    "    optimizer.zero_grad()\n",
    "    \n",
    "    loss.backward()\n",
    "    \n",
    "    torch.nn.utils.clip_grad_norm_(model.parameters(), 1)\n",
    "    optimizer.step()\n",
    "    \n",
    "    model.eval()\n",
    "    with torch.no_grad():\n",
    "        y_pred_val = model(x_val)\n",
    "        val_loss = loss_fn(y_pred_val, y_val)\n",
    "        \n",
    "    val_losses.append(val_loss.item())\n",
    "    losses.append(loss.item())\n",
    "    \n",
    "    if (epoch % 1000) == 0:\n",
    "        torch.save({\n",
    "                    'epoch': epoch,\n",
    "                    'model_state_dict': model.state_dict(),\n",
    "                    'optimizer_state_dict': optimizer.state_dict(),\n",
    "                    'loss': loss,\n",
    "                    }, './documentation/models/1/epoch%d_loss%.3f.pth' % (epoch,val_loss))\n",
    "    if val_loss < min_val_loss:\n",
    "        torch.save({\n",
    "                    'epoch': epoch,\n",
    "                    'model_state_dict': model.state_dict(),\n",
    "                    'optimizer_state_dict': optimizer.state_dict(),\n",
    "                    'loss': loss,\n",
    "                    }, './documentation/models/1/best.pth')\n",
    "        min_val_loss = val_loss\n",
    "        \n",
    "    print(f'Epoch {epoch}, loss = {loss.item():.4f}, validation loss = {val_loss.item():.4f}.', end = \"\\r\")\n",
    "    \n",
    "    \n",
    "    "
   ]
  },
  {
   "cell_type": "code",
   "execution_count": 130,
   "metadata": {},
   "outputs": [
    {
     "data": {
      "text/plain": [
       "[<matplotlib.lines.Line2D at 0x2045164d2e0>]"
      ]
     },
     "execution_count": 130,
     "metadata": {},
     "output_type": "execute_result"
    },
    {
     "data": {
      "image/png": "[encoded data removed]",
      "text/plain": [
       "<Figure size 432x288 with 1 Axes>"
      ]
     },
     "metadata": {
      "needs_background": "light"
     },
     "output_type": "display_data"
    }
   ],
   "source": [
    "plt.plot(val_losses)"
   ]
  },
  {
   "cell_type": "code",
   "execution_count": 45,
   "metadata": {},
   "outputs": [
    {
     "data": {
      "text/plain": [
       "torch.Size([2, 1, 9, 9])"
      ]
     },
     "execution_count": 45,
     "metadata": {},
     "output_type": "execute_result"
    }
   ],
   "source": [
    "for i in range(1, 64):\n",
    "    "
   ]
  },
  {
   "cell_type": "code",
   "execution_count": 51,
   "metadata": {},
   "outputs": [],
   "source": [
    "x_val_np = x_val.cpu().numpy()"
   ]
  },
  {
   "cell_type": "code",
   "execution_count": 133,
   "metadata": {},
   "outputs": [],
   "source": [
    "dictionary = {}\n",
    "for i, val_sudoku in enumerate(val_sudokus):\n",
    "    current_zeros = len(np.argwhere(val_sudoku[0] == 0))\n",
    "    if current_zeros in dictionary.keys():\n",
    "        dictionary[current_zeros] += [i]\n",
    "    else:\n",
    "        dictionary[current_zeros] = [i]"
   ]
  },
  {
   "cell_type": "code",
   "execution_count": 134,
   "metadata": {},
   "outputs": [],
   "source": [
    "model.eval()\n",
    "\n",
    "val_losses_i = []\n",
    "\n",
    "for i in set(dictionary.keys()):\n",
    "    \n",
    "    x_val_i = x_val[dictionary[i]]\n",
    "    y_val_i = y_val[dictionary[i]]\n",
    "    \n",
    "    with torch.no_grad():\n",
    "        y_pred_val_i = model(x_val_i)\n",
    "        val_loss_i = loss_fn(y_pred_val_i, y_val_i)\n",
    "\n",
    "    val_losses_i.append(val_loss_i.item())"
   ]
  },
  {
   "cell_type": "code",
   "execution_count": 135,
   "metadata": {},
   "outputs": [
    {
     "data": {
      "text/plain": [
       "[<matplotlib.lines.Line2D at 0x2047fb84820>]"
      ]
     },
     "execution_count": 135,
     "metadata": {},
     "output_type": "execute_result"
    },
    {
     "data": {
      "image/png": "[encoded data removed]",
      "text/plain": [
       "<Figure size 432x288 with 1 Axes>"
      ]
     },
     "metadata": {
      "needs_background": "light"
     },
     "output_type": "display_data"
    }
   ],
   "source": [
    "plt.plot(val_losses_i)"
   ]
  },
  {
   "cell_type": "code",
   "execution_count": 65,
   "metadata": {},
   "outputs": [
    {
     "data": {
      "text/plain": [
       "tensor(24.8296, device='cuda:0')"
      ]
     },
     "execution_count": 65,
     "metadata": {},
     "output_type": "execute_result"
    }
   ],
   "source": [
    "max_norm = 0\n",
    "for p in model.parameters():\n",
    "    param_norm = p.grad.data.norm(2)\n",
    "    if param_norm > max_norm:\n",
    "        max_norm = param_norm\n",
    "max_norm"
   ]
  },
  {
   "cell_type": "code",
   "execution_count": 63,
   "metadata": {},
   "outputs": [],
   "source": [
    "    torch.save({\n",
    "                'epoch': epoch,\n",
    "                'model_state_dict': model.state_dict(),\n",
    "                'optimizer_state_dict': optimizer.state_dict(),\n",
    "                'loss': loss,\n",
    "                }, './documentation/models/2/model.pth')"
   ]
  },
  {
   "cell_type": "code",
   "execution_count": 35,
   "metadata": {},
   "outputs": [
    {
     "data": {
      "text/plain": [
       "[<matplotlib.lines.Line2D at 0x20442b2c070>]"
      ]
     },
     "execution_count": 35,
     "metadata": {},
     "output_type": "execute_result"
    },
    {
     "data": {
      "image/png": "[encoded data removed]",
      "text/plain": [
       "<Figure size 432x288 with 1 Axes>"
      ]
     },
     "metadata": {
      "needs_background": "light"
     },
     "output_type": "display_data"
    }
   ],
   "source": [
    "plt.plot(losses)"
   ]
  },
  {
   "cell_type": "code",
   "execution_count": null,
   "metadata": {},
   "outputs": [],
   "source": []
  },
  {
   "cell_type": "code",
   "execution_count": 38,
   "metadata": {},
   "outputs": [
    {
     "data": {
      "text/plain": [
       "[<matplotlib.lines.Line2D at 0x204040d0400>]"
      ]
     },
     "execution_count": 38,
     "metadata": {},
     "output_type": "execute_result"
    },
    {
     "data": {
      "image/png": "[encoded data removed]",
      "text/plain": [
       "<Figure size 432x288 with 1 Axes>"
      ]
     },
     "metadata": {
      "needs_background": "light"
     },
     "output_type": "display_data"
    }
   ],
   "source": [
    "plt.plot(val_losses)"
   ]
  },
  {
   "cell_type": "code",
   "execution_count": 23,
   "metadata": {},
   "outputs": [],
   "source": [
    "x_train, y_train = data_utils.fast_generate_batch(train_sudokus)\n"
   ]
  },
  {
   "cell_type": "code",
   "execution_count": 19,
   "metadata": {},
   "outputs": [],
   "source": [
    "x_train, y_train = data_utils.fast_generate_batch(train_sudokus)\n"
   ]
  },
  {
   "cell_type": "code",
   "execution_count": 20,
   "metadata": {},
   "outputs": [
    {
     "data": {
      "text/plain": [
       "array([[0, 0, 0, 7, 0, 0, 0, 0, 0],\n",
       "       [0, 0, 0, 5, 0, 8, 0, 0, 9],\n",
       "       [6, 0, 0, 0, 0, 0, 0, 0, 0],\n",
       "       [0, 0, 0, 4, 2, 0, 0, 0, 0],\n",
       "       [0, 0, 0, 0, 0, 0, 6, 1, 5],\n",
       "       [0, 0, 0, 0, 0, 0, 0, 3, 0],\n",
       "       [0, 0, 9, 0, 0, 0, 4, 0, 0],\n",
       "       [0, 5, 0, 0, 0, 0, 0, 0, 8],\n",
       "       [0, 0, 0, 0, 6, 1, 0, 0, 0]], dtype=uint8)"
      ]
     },
     "execution_count": 20,
     "metadata": {},
     "output_type": "execute_result"
    }
   ],
   "source": [
    "x_train[0]"
   ]
  },
  {
   "cell_type": "code",
   "execution_count": 21,
   "metadata": {},
   "outputs": [],
   "source": [
    "x_train, y_train = data_utils.fast_generate_batch(train_sudokus)\n"
   ]
  },
  {
   "cell_type": "code",
   "execution_count": 35,
   "metadata": {},
   "outputs": [
    {
     "data": {
      "text/plain": [
       "tensor([[[0., 0., 0., 7., 0., 9., 0., 0., 0.],\n",
       "         [0., 0., 0., 0., 0., 0., 0., 0., 6.],\n",
       "         [0., 0., 0., 0., 0., 0., 1., 2., 8.],\n",
       "         [0., 0., 0., 0., 0., 5., 0., 0., 0.],\n",
       "         [0., 2., 0., 0., 0., 0., 0., 0., 0.],\n",
       "         [0., 0., 0., 0., 4., 1., 3., 0., 0.],\n",
       "         [0., 0., 0., 2., 8., 0., 0., 0., 0.],\n",
       "         [3., 0., 0., 0., 0., 0., 0., 9., 0.],\n",
       "         [0., 0., 1., 0., 0., 0., 4., 0., 0.]]])"
      ]
     },
     "execution_count": 35,
     "metadata": {},
     "output_type": "execute_result"
    }
   ],
   "source": [
    "x_train[0]"
   ]
  },
  {
   "cell_type": "code",
   "execution_count": 36,
   "metadata": {},
   "outputs": [
    {
     "data": {
      "text/plain": [
       "tensor([[5, 7, 1, 6, 0, 8, 4, 2, 3],\n",
       "        [3, 0, 2, 7, 4, 1, 8, 6, 5],\n",
       "        [6, 4, 8, 3, 2, 5, 0, 1, 7],\n",
       "        [0, 2, 5, 8, 1, 4, 7, 3, 6],\n",
       "        [4, 1, 3, 2, 6, 7, 5, 0, 8],\n",
       "        [7, 8, 6, 5, 3, 0, 2, 4, 1],\n",
       "        [8, 3, 4, 1, 7, 2, 6, 5, 0],\n",
       "        [2, 6, 7, 0, 5, 3, 1, 8, 4],\n",
       "        [1, 5, 0, 4, 8, 6, 3, 7, 2]])"
      ]
     },
     "execution_count": 36,
     "metadata": {},
     "output_type": "execute_result"
    }
   ],
   "source": [
    "y_train[0]"
   ]
  },
  {
   "cell_type": "code",
   "execution_count": 46,
   "metadata": {},
   "outputs": [
    {
     "data": {
      "text/plain": [
       "tensor([[0, 2, 4, 6, 6, 6, 7, 8, 8, 8],\n",
       "        [3, 5, 8, 4, 6, 8, 4, 3, 4, 8]])"
      ]
     },
     "execution_count": 46,
     "metadata": {},
     "output_type": "execute_result"
    }
   ],
   "source": [
    "np.argwhere(y_pred[0,:,0,:].cpu() > -0.2)"
   ]
  },
  {
   "cell_type": "code",
   "execution_count": 41,
   "metadata": {},
   "outputs": [
    {
     "data": {
      "text/plain": [
       "torch.Size([9, 9, 9])"
      ]
     },
     "execution_count": 41,
     "metadata": {},
     "output_type": "execute_result"
    }
   ],
   "source": [
    "y_pred[0].cpu().shape"
   ]
  },
  {
   "cell_type": "code",
   "execution_count": 51,
   "metadata": {},
   "outputs": [
    {
     "data": {
      "text/plain": [
       "tensor([-0.9362, -4.6014, -0.5402, -0.2921,  0.2304, -0.3378, -0.1828, -0.4231,\n",
       "         0.0343], device='cuda:0', grad_fn=<SelectBackward>)"
      ]
     },
     "execution_count": 51,
     "metadata": {},
     "output_type": "execute_result"
    }
   ],
   "source": [
    "y_pred[0,:,0,8]"
   ]
  },
  {
   "cell_type": "code",
   "execution_count": 52,
   "metadata": {},
   "outputs": [
    {
     "ename": "PicklingError",
     "evalue": "Can't pickle <class '__main__.simpleNet'>: it's not the same object as __main__.simpleNet",
     "output_type": "error",
     "traceback": [
      "\u001b[1;31m---------------------------------------------------------------------------\u001b[0m",
      "\u001b[1;31mPicklingError\u001b[0m                             Traceback (most recent call last)",
      "\u001b[1;32m<ipython-input-52-c41f71e7fd16>\u001b[0m in \u001b[0;36m<module>\u001b[1;34m\u001b[0m\n\u001b[1;32m----> 1\u001b[1;33m \u001b[0mtorch\u001b[0m\u001b[1;33m.\u001b[0m\u001b[0msave\u001b[0m\u001b[1;33m(\u001b[0m\u001b[0mmodel\u001b[0m\u001b[1;33m,\u001b[0m \u001b[1;34m\"documentation/models/1/state_dict.pt\"\u001b[0m\u001b[1;33m)\u001b[0m\u001b[1;33m\u001b[0m\u001b[1;33m\u001b[0m\u001b[0m\n\u001b[0m",
      "\u001b[1;32mc:\\users\\katane\\appdata\\local\\programs\\python\\python38\\lib\\site-packages\\torch\\serialization.py\u001b[0m in \u001b[0;36msave\u001b[1;34m(obj, f, pickle_module, pickle_protocol, _use_new_zipfile_serialization)\u001b[0m\n\u001b[0;32m    370\u001b[0m         \u001b[1;32mif\u001b[0m \u001b[0m_use_new_zipfile_serialization\u001b[0m\u001b[1;33m:\u001b[0m\u001b[1;33m\u001b[0m\u001b[1;33m\u001b[0m\u001b[0m\n\u001b[0;32m    371\u001b[0m             \u001b[1;32mwith\u001b[0m \u001b[0m_open_zipfile_writer\u001b[0m\u001b[1;33m(\u001b[0m\u001b[0mopened_file\u001b[0m\u001b[1;33m)\u001b[0m \u001b[1;32mas\u001b[0m \u001b[0mopened_zipfile\u001b[0m\u001b[1;33m:\u001b[0m\u001b[1;33m\u001b[0m\u001b[1;33m\u001b[0m\u001b[0m\n\u001b[1;32m--> 372\u001b[1;33m                 \u001b[0m_save\u001b[0m\u001b[1;33m(\u001b[0m\u001b[0mobj\u001b[0m\u001b[1;33m,\u001b[0m \u001b[0mopened_zipfile\u001b[0m\u001b[1;33m,\u001b[0m \u001b[0mpickle_module\u001b[0m\u001b[1;33m,\u001b[0m \u001b[0mpickle_protocol\u001b[0m\u001b[1;33m)\u001b[0m\u001b[1;33m\u001b[0m\u001b[1;33m\u001b[0m\u001b[0m\n\u001b[0m\u001b[0;32m    373\u001b[0m                 \u001b[1;32mreturn\u001b[0m\u001b[1;33m\u001b[0m\u001b[1;33m\u001b[0m\u001b[0m\n\u001b[0;32m    374\u001b[0m         \u001b[0m_legacy_save\u001b[0m\u001b[1;33m(\u001b[0m\u001b[0mobj\u001b[0m\u001b[1;33m,\u001b[0m \u001b[0mopened_file\u001b[0m\u001b[1;33m,\u001b[0m \u001b[0mpickle_module\u001b[0m\u001b[1;33m,\u001b[0m \u001b[0mpickle_protocol\u001b[0m\u001b[1;33m)\u001b[0m\u001b[1;33m\u001b[0m\u001b[1;33m\u001b[0m\u001b[0m\n",
      "\u001b[1;32mc:\\users\\katane\\appdata\\local\\programs\\python\\python38\\lib\\site-packages\\torch\\serialization.py\u001b[0m in \u001b[0;36m_save\u001b[1;34m(obj, zip_file, pickle_module, pickle_protocol)\u001b[0m\n\u001b[0;32m    474\u001b[0m     \u001b[0mpickler\u001b[0m \u001b[1;33m=\u001b[0m \u001b[0mpickle_module\u001b[0m\u001b[1;33m.\u001b[0m\u001b[0mPickler\u001b[0m\u001b[1;33m(\u001b[0m\u001b[0mdata_buf\u001b[0m\u001b[1;33m,\u001b[0m \u001b[0mprotocol\u001b[0m\u001b[1;33m=\u001b[0m\u001b[0mpickle_protocol\u001b[0m\u001b[1;33m)\u001b[0m\u001b[1;33m\u001b[0m\u001b[1;33m\u001b[0m\u001b[0m\n\u001b[0;32m    475\u001b[0m     \u001b[0mpickler\u001b[0m\u001b[1;33m.\u001b[0m\u001b[0mpersistent_id\u001b[0m \u001b[1;33m=\u001b[0m \u001b[0mpersistent_id\u001b[0m\u001b[1;33m\u001b[0m\u001b[1;33m\u001b[0m\u001b[0m\n\u001b[1;32m--> 476\u001b[1;33m     \u001b[0mpickler\u001b[0m\u001b[1;33m.\u001b[0m\u001b[0mdump\u001b[0m\u001b[1;33m(\u001b[0m\u001b[0mobj\u001b[0m\u001b[1;33m)\u001b[0m\u001b[1;33m\u001b[0m\u001b[1;33m\u001b[0m\u001b[0m\n\u001b[0m\u001b[0;32m    477\u001b[0m     \u001b[0mdata_value\u001b[0m \u001b[1;33m=\u001b[0m \u001b[0mdata_buf\u001b[0m\u001b[1;33m.\u001b[0m\u001b[0mgetvalue\u001b[0m\u001b[1;33m(\u001b[0m\u001b[1;33m)\u001b[0m\u001b[1;33m\u001b[0m\u001b[1;33m\u001b[0m\u001b[0m\n\u001b[0;32m    478\u001b[0m     \u001b[0mzip_file\u001b[0m\u001b[1;33m.\u001b[0m\u001b[0mwrite_record\u001b[0m\u001b[1;33m(\u001b[0m\u001b[1;34m'data.pkl'\u001b[0m\u001b[1;33m,\u001b[0m \u001b[0mdata_value\u001b[0m\u001b[1;33m,\u001b[0m \u001b[0mlen\u001b[0m\u001b[1;33m(\u001b[0m\u001b[0mdata_value\u001b[0m\u001b[1;33m)\u001b[0m\u001b[1;33m)\u001b[0m\u001b[1;33m\u001b[0m\u001b[1;33m\u001b[0m\u001b[0m\n",
      "\u001b[1;31mPicklingError\u001b[0m: Can't pickle <class '__main__.simpleNet'>: it's not the same object as __main__.simpleNet"
     ]
    }
   ],
   "source": [
    "torch.save(model, \"documentation/models/1/state_dict.pt\")"
   ]
  },
  {
   "cell_type": "code",
   "execution_count": 82,
   "metadata": {},
   "outputs": [
    {
     "name": "stdout",
     "output_type": "stream",
     "text": [
      "197 ms ± 2.75 ms per loop (mean ± std. dev. of 7 runs, 1 loop each)\n"
     ]
    }
   ],
   "source": [
    "%%timeit\n",
    "for i in range(4062):\n",
    "    sudoku_utils.make_random_moves(board, solved, 20, 0)"
   ]
  },
  {
   "cell_type": "code",
   "execution_count": 37,
   "metadata": {},
   "outputs": [],
   "source": []
  },
  {
   "cell_type": "code",
   "execution_count": 24,
   "metadata": {},
   "outputs": [],
   "source": [
    "tots = np.zeros(100)\n",
    "for i, sudoku in enumerate(new_train_sudokus):\n",
    "    moves_made = len(np.argwhere(sudoku[0] != 0)) - 17\n",
    "    tots[moves_made] += 1"
   ]
  },
  {
   "cell_type": "code",
   "execution_count": 25,
   "metadata": {},
   "outputs": [
    {
     "data": {
      "text/plain": [
       "[<matplotlib.lines.Line2D at 0x1ba573ced30>]"
      ]
     },
     "execution_count": 25,
     "metadata": {},
     "output_type": "execute_result"
    },
    {
     "data": {
      "image/png": "[encoded data removed]",
      "text/plain": [
       "<Figure size 432x288 with 1 Axes>"
      ]
     },
     "metadata": {
      "needs_background": "light"
     },
     "output_type": "display_data"
    }
   ],
   "source": [
    "plt.plot(tots)"
   ]
  },
  {
   "cell_type": "code",
   "execution_count": 36,
   "metadata": {},
   "outputs": [],
   "source": [
    "def all_but_one_distribution():\n",
    "    possible_numbers_of_moves_to_make = list(range(0,64))\n",
    "    probabilities = [0]*64\n",
    "    probabilities[63] = 1\n",
    "    return possible_numbers_of_moves_to_make, probabilities"
   ]
  },
  {
   "cell_type": "code",
   "execution_count": 40,
   "metadata": {},
   "outputs": [
    {
     "data": {
      "text/plain": [
       "array([[6, 9, 3, 7, 8, 4, 5, 1, 2],\n",
       "       [4, 8, 7, 5, 1, 2, 9, 3, 6],\n",
       "       [1, 2, 5, 9, 6, 3, 8, 7, 4],\n",
       "       [9, 3, 2, 6, 5, 1, 4, 8, 7],\n",
       "       [5, 6, 8, 2, 4, 7, 3, 9, 1],\n",
       "       [0, 4, 1, 3, 9, 8, 6, 2, 5],\n",
       "       [3, 1, 9, 4, 7, 5, 2, 6, 8],\n",
       "       [8, 5, 6, 1, 2, 9, 7, 4, 3],\n",
       "       [2, 7, 4, 8, 3, 6, 1, 5, 9]], dtype=uint8)"
      ]
     },
     "execution_count": 40,
     "metadata": {},
     "output_type": "execute_result"
    }
   ],
   "source": [
    "new_train_sudokus[0][0]"
   ]
  },
  {
   "cell_type": "code",
   "execution_count": 107,
   "metadata": {},
   "outputs": [
    {
     "data": {
      "text/plain": [
       "tensor(0., device='cuda:0')"
      ]
     },
     "execution_count": 107,
     "metadata": {},
     "output_type": "execute_result"
    }
   ],
   "source": [
    "x_train[0,0, 6, 7]"
   ]
  },
  {
   "cell_type": "code",
   "execution_count": 98,
   "metadata": {},
   "outputs": [],
   "source": [
    "y = model(x_train[0].reshape(-1, 1, 9, 9))"
   ]
  },
  {
   "cell_type": "code",
   "execution_count": 119,
   "metadata": {},
   "outputs": [],
   "source": [
    "a = y[0,:].cpu().detach().numpy()"
   ]
  },
  {
   "cell_type": "code",
   "execution_count": 126,
   "metadata": {},
   "outputs": [
    {
     "name": "stderr",
     "output_type": "stream",
     "text": [
      "<ipython-input-126-dff5b86ba716>:2: UserWarning: Implicit dimension choice for softmax has been deprecated. Change the call to include dim=X as an argument.\n",
      "  m(y[0,:,6,7])\n"
     ]
    },
    {
     "data": {
      "text/plain": [
       "tensor([3.8428e-05, 2.2237e-01, 4.7696e-03, 1.7718e-02, 7.1976e-02, 4.3815e-01,\n",
       "        2.2063e-01, 2.3932e-02, 4.2340e-04], device='cuda:0',\n",
       "       grad_fn=<SoftmaxBackward>)"
      ]
     },
     "execution_count": 126,
     "metadata": {},
     "output_type": "execute_result"
    }
   ],
   "source": [
    "m = torch.nn.Softmax()\n",
    "m(y[0,:,6,7])\n"
   ]
  },
  {
   "cell_type": "code",
   "execution_count": 116,
   "metadata": {},
   "outputs": [
    {
     "data": {
      "text/plain": [
       "tensor([[0, 2, 7, 6, 3, 5, 4, 8, 1],\n",
       "        [5, 4, 3, 8, 1, 2, 0, 6, 7],\n",
       "        [6, 1, 8, 7, 0, 4, 5, 3, 2],\n",
       "        [2, 7, 4, 0, 8, 6, 3, 1, 5],\n",
       "        [8, 6, 1, 5, 4, 3, 2, 7, 0],\n",
       "        [3, 5, 0, 1, 2, 7, 8, 4, 6],\n",
       "        [4, 0, 6, 2, 7, 8, 1, 5, 3],\n",
       "        [7, 8, 2, 3, 5, 1, 6, 0, 4],\n",
       "        [1, 3, 5, 4, 6, 0, 7, 2, 8]], device='cuda:0')"
      ]
     },
     "execution_count": 116,
     "metadata": {},
     "output_type": "execute_result"
    }
   ],
   "source": [
    "y_train[0]"
   ]
  },
  {
   "cell_type": "code",
   "execution_count": 79,
   "metadata": {},
   "outputs": [
    {
     "data": {
      "text/plain": [
       "tensor([[8, 2, 1, 0, 4, 3, 5, 6, 7],\n",
       "        [3, 5, 4, 2, 6, 7, 0, 1, 8],\n",
       "        [7, 0, 6, 8, 5, 1, 3, 4, 2],\n",
       "        [1, 8, 0, 5, 7, 2, 4, 3, 6],\n",
       "        [6, 4, 3, 1, 8, 0, 2, 7, 5],\n",
       "        [2, 7, 5, 4, 3, 6, 8, 0, 1],\n",
       "        [4, 3, 2, 7, 1, 8, 6, 5, 0],\n",
       "        [0, 6, 7, 3, 2, 5, 1, 8, 4],\n",
       "        [5, 1, 8, 6, 0, 4, 7, 2, 3]], device='cuda:0')"
      ]
     },
     "execution_count": 79,
     "metadata": {},
     "output_type": "execute_result"
    }
   ],
   "source": [
    "y_train[0]"
   ]
  },
  {
   "cell_type": "code",
   "execution_count": 83,
   "metadata": {},
   "outputs": [
    {
     "data": {
      "text/plain": [
       "tensor([-61.6282, -71.7021, -58.5719, -95.3305, -73.5535, -46.4773,  -1.0167,\n",
       "         21.3101,  26.0130], device='cuda:0', grad_fn=<SelectBackward>)"
      ]
     },
     "execution_count": 83,
     "metadata": {},
     "output_type": "execute_result"
    }
   ],
   "source": [
    "y[0,:,0,0]"
   ]
  },
  {
   "cell_type": "code",
   "execution_count": 82,
   "metadata": {},
   "outputs": [
    {
     "data": {
      "text/plain": [
       "tensor(9., device='cuda:0')"
      ]
     },
     "execution_count": 82,
     "metadata": {},
     "output_type": "execute_result"
    }
   ],
   "source": [
    "x_train[0,0,0,0]"
   ]
  },
  {
   "cell_type": "code",
   "execution_count": 84,
   "metadata": {},
   "outputs": [],
   "source": [
    "x = x_train[0]"
   ]
  },
  {
   "cell_type": "code",
   "execution_count": null,
   "metadata": {},
   "outputs": [],
   "source": []
  }
 ],
 "metadata": {
  "kernelspec": {
   "display_name": "Python 3",
   "language": "python",
   "name": "python3"
  },
  "language_info": {
   "codemirror_mode": {
    "name": "ipython",
    "version": 3
   },
   "file_extension": ".py",
   "mimetype": "text/x-python",
   "name": "python",
   "nbconvert_exporter": "python",
   "pygments_lexer": "ipython3",
   "version": "3.8.7"
  }
 },
 "nbformat": 4,
 "nbformat_minor": 4
}
