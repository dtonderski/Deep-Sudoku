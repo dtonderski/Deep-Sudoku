{
 "cells": [
  {
   "cell_type": "code",
   "execution_count": 1,
   "metadata": {},
   "outputs": [],
   "source": [
    "from sudoku import Sudoku\n",
    "import numpy as np"
   ]
  },
  {
   "cell_type": "code",
   "execution_count": 2,
   "metadata": {},
   "outputs": [],
   "source": [
    "from deep_sudoku.utils import sudoku_utils"
   ]
  },
  {
   "cell_type": "code",
   "execution_count": null,
   "metadata": {},
   "outputs": [],
   "source": []
  },
  {
   "cell_type": "code",
   "execution_count": 3,
   "metadata": {},
   "outputs": [],
   "source": [
    "string = \"000000010400000000020000000000050407008000300001090000300400200050100000000806000\"\n",
    "board = sudoku_utils.load_string(string)\n",
    "solved = sudoku_utils.solve_sudoku(board)"
   ]
  },
  {
   "cell_type": "code",
   "execution_count": 4,
   "metadata": {},
   "outputs": [],
   "source": [
    "def make_random_move(board, solved, correct = True):\n",
    "    temp_board = board.copy()\n",
    "    possible_moves = np.argwhere(temp_board == 0)\n",
    "    move_index = np.random.choice(range(len(possible_moves)))\n",
    "    pos_to_play = possible_moves[move_index]\n",
    "\n",
    "    correct_number = int(solved[pos_to_play[0], pos_to_play[1]])\n",
    "    \n",
    "    if correct:\n",
    "        new_number = correct_number\n",
    "    else:\n",
    "        new_number = np.random.choice([x for x in range(1,9) if x!= correct_number])\n",
    "        \n",
    "    temp_board[pos_to_play[0], pos_to_play[1]] = new_number\n",
    "    \n",
    "    return temp_board\n",
    "\n",
    "checking = False\n",
    "\n",
    "\n",
    "for i in range(1000):\n",
    "    new_board = board.copy()\n",
    "    \n",
    "    for j in range(20):\n",
    "        new_board = make_random_move(new_board, solved, checking)\n",
    "        assert(np.all(np.logical_or(np.equal(new_board,board), np.equal(new_board, solved))) == checking)"
   ]
  },
  {
   "cell_type": "code",
   "execution_count": 5,
   "metadata": {},
   "outputs": [
    {
     "ename": "IndentationError",
     "evalue": "expected an indented block (<ipython-input-5-b9b55a1f5677>, line 10)",
     "output_type": "error",
     "traceback": [
      "\u001b[1;36m  File \u001b[1;32m\"<ipython-input-5-b9b55a1f5677>\"\u001b[1;36m, line \u001b[1;32m10\u001b[0m\n\u001b[1;33m    return boards,labels\u001b[0m\n\u001b[1;37m    ^\u001b[0m\n\u001b[1;31mIndentationError\u001b[0m\u001b[1;31m:\u001b[0m expected an indented block\n"
     ]
    }
   ],
   "source": [
    "def generate_sudokus(board, solved, moves_per_board, correct_moves_per_board):\n",
    "    boards = []\n",
    "    labels = []\n",
    "    \n",
    "    n_moves = len(np.argwhere(board == 0))\n",
    "    for move in n_moves:\n",
    "        \n",
    "        \n",
    "        \n",
    "    return boards,labels\n",
    "\n",
    "generate_sudokus(board, solved, 1, 1)"
   ]
  },
  {
   "cell_type": "code",
   "execution_count": null,
   "metadata": {},
   "outputs": [],
   "source": [
    "import pickle"
   ]
  },
  {
   "cell_type": "code",
   "execution_count": null,
   "metadata": {},
   "outputs": [],
   "source": [
    "with open('data/sudoku_lists/%d_sudokus.pil' % 101, 'rb') as handle:\n",
    "    sudokus = pickle.load(handle)"
   ]
  },
  {
   "cell_type": "code",
   "execution_count": 7,
   "metadata": {},
   "outputs": [
    {
     "data": {
      "text/plain": [
       "array([[0, 0, 0, 0, 0, 0, 0, 1, 0],\n",
       "       [4, 0, 0, 0, 0, 0, 0, 0, 0],\n",
       "       [0, 2, 0, 0, 0, 0, 0, 0, 0],\n",
       "       [0, 0, 0, 0, 5, 0, 4, 0, 7],\n",
       "       [0, 0, 8, 0, 0, 0, 3, 0, 0],\n",
       "       [0, 0, 1, 0, 9, 0, 0, 0, 0],\n",
       "       [3, 0, 0, 4, 0, 0, 2, 0, 0],\n",
       "       [0, 5, 0, 1, 0, 0, 0, 0, 0],\n",
       "       [0, 0, 0, 8, 0, 6, 0, 0, 0]], dtype=object)"
      ]
     },
     "execution_count": 7,
     "metadata": {},
     "output_type": "execute_result"
    }
   ],
   "source": [
    "board"
   ]
  },
  {
   "cell_type": "code",
   "execution_count": 8,
   "metadata": {},
   "outputs": [],
   "source": [
    "new_board = sudoku_utils.make_random_move(board, solved)"
   ]
  },
  {
   "cell_type": "code",
   "execution_count": 13,
   "metadata": {},
   "outputs": [
    {
     "data": {
      "text/plain": [
       "1"
      ]
     },
     "execution_count": 13,
     "metadata": {},
     "output_type": "execute_result"
    }
   ],
   "source": [
    "np.sum(~np.equal(board, new_board))"
   ]
  },
  {
   "cell_type": "code",
   "execution_count": null,
   "metadata": {},
   "outputs": [],
   "source": []
  }
 ],
 "metadata": {
  "kernelspec": {
   "display_name": "Python 3",
   "language": "python",
   "name": "python3"
  },
  "language_info": {
   "codemirror_mode": {
    "name": "ipython",
    "version": 3
   },
   "file_extension": ".py",
   "mimetype": "text/x-python",
   "name": "python",
   "nbconvert_exporter": "python",
   "pygments_lexer": "ipython3",
   "version": "3.8.7"
  }
 },
 "nbformat": 4,
 "nbformat_minor": 4
}
